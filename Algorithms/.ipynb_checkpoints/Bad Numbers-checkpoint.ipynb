{
 "cells": [
  {
   "cell_type": "code",
   "execution_count": 43,
   "id": "3dfcb991",
   "metadata": {},
   "outputs": [],
   "source": [
    "def longestSegment(badNumbers, lower, upper):\n",
    "    nums = [x for x in badNumbers if x >= lower and x <= upper] # O(n)\n",
    "    nums = list(set(nums))\n",
    "    nums.append(lower)\n",
    "    nums.append(upper)\n",
    "    nums = sorted(nums) # O(n log n)\n",
    "    diff = []\n",
    "    for i in range(1, len(nums)):\n",
    "        if i == 1 or i == len(nums) - 1:\n",
    "            diff.append(nums[i] - nums[i - 1])\n",
    "        else:\n",
    "            diff.append(nums[i] - nums[i - 1] - 1)\n",
    "    return max(diff)"
   ]
  },
  {
   "cell_type": "code",
   "execution_count": 44,
   "id": "85b81d12",
   "metadata": {},
   "outputs": [
    {
     "data": {
      "text/plain": [
       "4"
      ]
     },
     "execution_count": 44,
     "metadata": {},
     "output_type": "execute_result"
    }
   ],
   "source": [
    "longestSegment([5,7,12],3,13)"
   ]
  },
  {
   "cell_type": "code",
   "execution_count": 45,
   "id": "e9e45bf7",
   "metadata": {},
   "outputs": [
    {
     "data": {
      "text/plain": [
       "4"
      ]
     },
     "execution_count": 45,
     "metadata": {},
     "output_type": "execute_result"
    }
   ],
   "source": [
    "longestSegment([5,12,7],3,13)"
   ]
  },
  {
   "cell_type": "code",
   "execution_count": 46,
   "id": "867e5e3a",
   "metadata": {},
   "outputs": [
    {
     "data": {
      "text/plain": [
       "0"
      ]
     },
     "execution_count": 46,
     "metadata": {},
     "output_type": "execute_result"
    }
   ],
   "source": [
    "longestSegment([3,4,5],3,5)"
   ]
  },
  {
   "cell_type": "code",
   "execution_count": 47,
   "id": "a19736dd",
   "metadata": {},
   "outputs": [
    {
     "data": {
      "text/plain": [
       "1"
      ]
     },
     "execution_count": 47,
     "metadata": {},
     "output_type": "execute_result"
    }
   ],
   "source": [
    "longestSegment([3,5],3,5)"
   ]
  },
  {
   "cell_type": "code",
   "execution_count": null,
   "id": "a09c07e8",
   "metadata": {},
   "outputs": [],
   "source": []
  }
 ],
 "metadata": {
  "kernelspec": {
   "display_name": "Python 3 (ipykernel)",
   "language": "python",
   "name": "python3"
  },
  "language_info": {
   "codemirror_mode": {
    "name": "ipython",
    "version": 3
   },
   "file_extension": ".py",
   "mimetype": "text/x-python",
   "name": "python",
   "nbconvert_exporter": "python",
   "pygments_lexer": "ipython3",
   "version": "3.8.8"
  }
 },
 "nbformat": 4,
 "nbformat_minor": 5
}
