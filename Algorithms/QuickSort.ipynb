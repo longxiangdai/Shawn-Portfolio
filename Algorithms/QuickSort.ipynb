{
 "cells": [
  {
   "cell_type": "code",
   "execution_count": 37,
   "id": "62174822",
   "metadata": {},
   "outputs": [],
   "source": [
    "def quick_sort(a, start, end):\n",
    "    if start >= end:\n",
    "        return\n",
    "    left, right = start, end\n",
    "    pivot = a[(left + right) // 2]\n",
    "    while left <= right:\n",
    "        while left <= right and a[left] < pivot:\n",
    "            left += 1\n",
    "        while left <= right and a[right] > pivot:\n",
    "            right -= 1\n",
    "        if left <= right:\n",
    "            a[left], a[right] = a[right], a[left]\n",
    "            left += 1\n",
    "            right -= 1\n",
    "    quick_sort(a, start, right)\n",
    "    quick_sort(a, left, end)"
   ]
  },
  {
   "cell_type": "code",
   "execution_count": 38,
   "id": "835647b5",
   "metadata": {},
   "outputs": [],
   "source": [
    "a = [3,2,1,4,5]\n",
    "quick_sort(a, 0, len(a) - 1)\n",
    "assert a == [1,2,3,4,5]"
   ]
  },
  {
   "cell_type": "code",
   "execution_count": 34,
   "id": "1eacf3fe",
   "metadata": {},
   "outputs": [],
   "source": [
    "from typing import (\n",
    "    List,\n",
    ")\n",
    "\n",
    "class Solution:\n",
    "    \"\"\"\n",
    "    @param chars: The letter array you should sort by Case\n",
    "    @return: nothing\n",
    "    \"\"\"\n",
    "    def sort_letters(self, chars: List[str]):\n",
    "        if not chars or len(chars) == 1:\n",
    "            return\n",
    "        n = len(chars) - 1\n",
    "        left, right = 0, n - 1\n",
    "        while left <= right:\n",
    "            print(left, right)\n",
    "            while left <= right and chars[left].islower():\n",
    "                left += 1\n",
    "            while left <= right and chars[right].isupper():\n",
    "                right -= 1\n",
    "            if left <= right:\n",
    "                chars[left], chars[right] = chars[right], chars[left]\n",
    "                left += 1\n",
    "                right -= 1"
   ]
  },
  {
   "cell_type": "code",
   "execution_count": 35,
   "id": "10aed8da",
   "metadata": {},
   "outputs": [
    {
     "name": "stdout",
     "output_type": "stream",
     "text": [
      "0 0\n"
     ]
    }
   ],
   "source": [
    "s = Solution()\n",
    "l = ['A','a']\n",
    "s.sort_letters(l)"
   ]
  },
  {
   "cell_type": "code",
   "execution_count": 36,
   "id": "caaaf738",
   "metadata": {},
   "outputs": [
    {
     "data": {
      "text/plain": [
       "['A', 'a']"
      ]
     },
     "execution_count": 36,
     "metadata": {},
     "output_type": "execute_result"
    }
   ],
   "source": [
    "l"
   ]
  },
  {
   "cell_type": "code",
   "execution_count": null,
   "id": "b9f8e6cd",
   "metadata": {},
   "outputs": [],
   "source": []
  }
 ],
 "metadata": {
  "kernelspec": {
   "display_name": "Python 3 (ipykernel)",
   "language": "python",
   "name": "python3"
  },
  "language_info": {
   "codemirror_mode": {
    "name": "ipython",
    "version": 3
   },
   "file_extension": ".py",
   "mimetype": "text/x-python",
   "name": "python",
   "nbconvert_exporter": "python",
   "pygments_lexer": "ipython3",
   "version": "3.8.8"
  }
 },
 "nbformat": 4,
 "nbformat_minor": 5
}
