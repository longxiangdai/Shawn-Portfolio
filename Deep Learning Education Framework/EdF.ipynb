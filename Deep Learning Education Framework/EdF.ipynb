{
 "cells": [
  {
   "cell_type": "code",
   "execution_count": 1,
   "id": "6854be2c",
   "metadata": {},
   "outputs": [],
   "source": [
    "import numpy as np\n",
    "import matplotlib.pyplot as plt\n",
    "\n",
    "DT = np.float32\n",
    "learning_rate = .001"
   ]
  },
  {
   "cell_type": "markdown",
   "id": "de602f5d",
   "metadata": {},
   "source": [
    "# Education Framework (EdF)"
   ]
  },
  {
   "cell_type": "markdown",
   "id": "964bdf87",
   "metadata": {},
   "source": [
    "### Clearing the Computation graph\n",
    "This should be done immediately before creating a new computation graph."
   ]
  },
  {
   "cell_type": "code",
   "execution_count": 2,
   "id": "bf458a48",
   "metadata": {},
   "outputs": [],
   "source": [
    "def clear_compgraph():\n",
    "    global CompNodes, Parameters\n",
    "    CompNodes = []\n",
    "    Parameters = []"
   ]
  },
  {
   "cell_type": "markdown",
   "id": "9b5f2abd",
   "metadata": {},
   "source": [
    "### Forward-Backward and SGD "
   ]
  },
  {
   "cell_type": "code",
   "execution_count": 3,
   "id": "50d18cf4",
   "metadata": {},
   "outputs": [],
   "source": [
    "def Forward():\n",
    "    for c in CompNodes: # propogate in order\n",
    "        c.forward()\n",
    "\n",
    "def Backward(loss):\n",
    "    for c in CompNodes + Parameters:\n",
    "        c.grad = np.zeros(c.value.shape, dtype = DT)\n",
    "    loss.grad = np.ones(loss.value.shape) / len(loss.value)  # The convention is to compute the averaage gradient over the batch\n",
    "    for c in CompNodes[::-1]: # propogate in the reverse order\n",
    "        c.backward()\n",
    "\n",
    "def SGD():\n",
    "    for p in Parameters: \n",
    "        p.SGD()"
   ]
  },
  {
   "cell_type": "markdown",
   "id": "51fe4b19",
   "metadata": {},
   "source": [
    "### Computation Graphs\n",
    "There are three kinds of nodes in a computation graph, inputs, parameters, and computed nodes (CompNodes).\n",
    "Computed nodes are defined on a case by case bases.  The Sigmoid class is defined as an example.  Other classes are\n",
    "defined below."
   ]
  },
  {
   "cell_type": "code",
   "execution_count": 4,
   "id": "a430fd92",
   "metadata": {},
   "outputs": [],
   "source": [
    "class Input:\n",
    "    def __init__(self):\n",
    "        pass\n",
    "\n",
    "    def addgrad(self, delta):\n",
    "        pass\n",
    "        \n",
    "class Parameter:\n",
    "    def __init__(self, value):\n",
    "        self.value = DT(value)\n",
    "        Parameters.append(self)\n",
    "\n",
    "    def addgrad(self, delta):\n",
    "        self.grad += np.sum(delta, axis = 0)\n",
    "\n",
    "    def SGD(self):\n",
    "        self.value -= learning_rate*self.grad\n",
    "\n",
    "class CompNode:\n",
    "    def addgrad(self, delta):\n",
    "        self.grad += delta"
   ]
  },
  {
   "cell_type": "markdown",
   "id": "ad3bd5e7",
   "metadata": {},
   "source": [
    "### Parameter Packages and some Compnodes"
   ]
  },
  {
   "cell_type": "code",
   "execution_count": 5,
   "id": "a9b5505f",
   "metadata": {},
   "outputs": [],
   "source": [
    "class ParameterPackage:\n",
    "    pass\n",
    "    \n",
    "class AffineParams(ParameterPackage):\n",
    "    def __init__(self, nInputs, nOutputs):\n",
    "        X = Xavier(nInputs)\n",
    "        self.w = Parameter(np.random.uniform(-X,X,(nInputs,nOutputs)))\n",
    "        self.b = Parameter(np.zeros(nOutputs))\n",
    "\n",
    "def Xavier(nInputs):\n",
    "    return np.sqrt(3.0/nInputs)\n",
    "\n",
    "class Affine(CompNode):\n",
    "    def __init__(self,Phi,x):\n",
    "        CompNodes.append(self)\n",
    "        self.x = x\n",
    "        self.Phi = Phi\n",
    "\n",
    "    def forward(self):\n",
    "        self.value = np.matmul(self.x.value, self.Phi.w.value) + self.Phi.b.value # the addition broadcasts b over the batch.\n",
    " \n",
    "    def backward(self):\n",
    "        self.x.addgrad(np.matmul(self.grad, self.Phi.w.value.transpose()))\n",
    "        self.Phi.b.addgrad(self.grad)\n",
    "        self.Phi.w.addgrad(self.x.value[:,:,np.newaxis] * self.grad[:,np.newaxis,:])\n",
    "\n",
    "class Sigmoid(CompNode):\n",
    "    def __init__(self,x):\n",
    "        CompNodes.append(self)\n",
    "        self.x = x\n",
    "\n",
    "    def forward(self):\n",
    "        bounded = np.maximum(-10, np.minimum(10,self.x.value)) #blocks numerical warnings\n",
    "        self.value = 1 / (1 + np.exp(-bounded))\n",
    "\n",
    "    def backward(self):\n",
    "        self.x.addgrad(self.grad * self.value * (1-self.value))\n",
    "\n",
    "class Softmax(CompNode):\n",
    "    def __init__(self,s): #s has shape (nBatch,nLabels}\n",
    "        CompNodes.append(self)\n",
    "        self.s = s\n",
    "        \n",
    "    def forward(self):\n",
    "        smax = np.max(self.s.value,axis=1,keepdims=True)\n",
    "        bounded = np.maximum(-10,self.s.value - smax) #blocks numerical warnings\n",
    "        es = np.exp(bounded) \n",
    "        self.value = es / np.sum(es,axis=1,keepdims=True)\n",
    "\n",
    "    def backward(self):\n",
    "        p_dot_pgrad = np.matmul(self.value[:,np.newaxis,:],self.grad[:,:,np.newaxis]).squeeze(-1) # p dot p.grad with shape (nBatch,1)\n",
    "        self.s.addgrad(self.value * (self.grad - p_dot_pgrad)) # p_dot_pgrad is broadcast over the labels\n",
    "\n",
    "class LogLoss(CompNode):\n",
    "    def __init__(self,p,y):\n",
    "        if not isinstance(p,CompNode):\n",
    "            print('LogLoss probability vector is not a CompNode')\n",
    "            raise ValueError\n",
    "        CompNodes.append(self)\n",
    "        self.p = p\n",
    "        self.y = y\n",
    "\n",
    "    def forward(self):\n",
    "        dLabels = self.p.value.shape[1]\n",
    "        dBatch = len(self.y.value)\n",
    "        self.picker = np.arange(dBatch)*dLabels + self.y.value  # p.flatten[picker][b] =p[b,y[b]] where b is the batch index\n",
    "        self.value = - np.log(self.p.value.reshape((-1,))[self.picker])\n",
    "        \n",
    "    def backward(self):\n",
    "        flatpval = self.p.value.reshape((-1,))\n",
    "        flatpgrad = self.p.grad.reshape((-1,))\n",
    "        flatpgrad[self.picker] -= self.grad/flatpval[self.picker]"
   ]
  },
  {
   "cell_type": "markdown",
   "id": "ff308442",
   "metadata": {},
   "source": [
    "# Example using the MNIST Handwritten Digit Database"
   ]
  },
  {
   "cell_type": "code",
   "execution_count": 6,
   "id": "0b32e9a0",
   "metadata": {},
   "outputs": [],
   "source": [
    "from __future__ import division, print_function, absolute_import\n",
    "import os\n",
    "import struct\n",
    "from array import array\n",
    "import warnings\n",
    "warnings.filterwarnings(\"ignore\", category=RuntimeWarning) "
   ]
  },
  {
   "cell_type": "markdown",
   "id": "dfb1ffe8",
   "metadata": {},
   "source": [
    "### Mnist Loader "
   ]
  },
  {
   "cell_type": "code",
   "execution_count": 7,
   "id": "e74af648",
   "metadata": {},
   "outputs": [],
   "source": [
    "\n",
    "\n",
    "def load_mnist(section=\"training\", offset=0, count=None, ret='xy',\n",
    "               x_dtype=np.float64, y_dtype=np.int64, path=None):\n",
    "    \"\"\"\n",
    "    Loads MNIST files into a 3D numpy array.\n",
    "    You have to download the data separately from [MNIST]_. It is recommended\n",
    "    to set the environment variable ``MNIST_DIR`` to point to the folder where\n",
    "    you put the data, so that you don't have to select path. On a Linux+bash\n",
    "    setup, this is done by adding the following to your ``.bashrc``::\n",
    "        export MNIST_DIR=/path/to/mnist\n",
    "    Parameters\n",
    "    ----------\n",
    "    section : str\n",
    "        Either \"training\" or \"testing\", depending on which section you want to\n",
    "        load.\n",
    "    offset : int\n",
    "        Skip this many samples.\n",
    "    count : int or None\n",
    "        Try to load this many samples. Default is None, which loads until the\n",
    "        end.\n",
    "    ret : str\n",
    "        What information to return. See return values.\n",
    "    x_dtype : dtype\n",
    "        Type of samples. If ``np.uint8``, intensities lie in {0, 1, ..., 255}.\n",
    "        If a float type, then intensities lie in [0.0, 1.0].\n",
    "    y_dtype : dtype\n",
    "        Integer type to store labels.\n",
    "    path : str\n",
    "        Path to your MNIST datafiles. The default is ``None``, which will try\n",
    "        to take the path from your environment variable ``MNIST_DIR``. The data\n",
    "        can be downloaded from http://yann.lecun.com/exdb/mnist/.\n",
    "    Returns\n",
    "    -------\n",
    "    images : ndarray\n",
    "        Image data of shape ``(N, 28, 28)``, where ``N`` is the number of\n",
    "        images. Returned if ``ret`` contains ``'x'``.\n",
    "    labels : ndarray\n",
    "        Array of size ``N`` describing the labels. Returned if ``ret``\n",
    "        contains ``'y'``.\n",
    "    Examples\n",
    "    --------\n",
    "    Assuming that you have downloaded the MNIST database and set the\n",
    "    environment variable ``$MNIST_DIR`` point to the folder, this will load all\n",
    "    images and labels from the training set:\n",
    "    >>> images, labels = ag.io.load_mnist('training')  # doctest: +SKIP\n",
    "    Load 100 samples from the testing set:\n",
    "    >>> sevens = ag.io.load_mnist('testing', offset=200, count=100,\n",
    "                                  ret='x') # doctest: +SKIP\n",
    "    \"\"\"\n",
    "\n",
    "    # The files are assumed to have these names and should be found in 'path'\n",
    "    files = {\n",
    "        'training': ('train-images-idx3-ubyte',\n",
    "                     'train-labels-idx1-ubyte',\n",
    "                     60000),\n",
    "        'testing': ('t10k-images-idx3-ubyte',\n",
    "                    't10k-labels-idx1-ubyte',\n",
    "                    10000),\n",
    "    }\n",
    "    \n",
    "    resources = {\n",
    "        'training' : ['http://yann.lecun.com/exdb/mnist/train-images-idx3-ubyte.gz',\n",
    "                      'http://yann.lecun.com/exdb/mnist/train-labels-idx1-ubyte.gz'],\n",
    "        'testing' : ['http://yann.lecun.com/exdb/mnist/t10k-images-idx3-ubyte.gz',\n",
    "                     'http://yann.lecun.com/exdb/mnist/t10k-labels-idx1-ubyte.gz'],\n",
    "    }\n",
    "                         \n",
    "    if count is None:\n",
    "        count = files[section][2] - offset\n",
    "\n",
    "    if path is None:\n",
    "        try:\n",
    "            path = os.environ['MNIST_DIR']\n",
    "        except KeyError:\n",
    "            raise ValueError(\"Unspecified path requires the environment\"\n",
    "                             \"variable $MNIST_DIR to be set\")\n",
    "\n",
    "    try:\n",
    "        images_fname = os.path.join(path, files[section][0])\n",
    "        labels_fname = os.path.join(path, files[section][1])\n",
    "    except KeyError:\n",
    "        raise ValueError(\"Data set must be 'testing' or 'training'\")\n",
    "\n",
    "    if not (os.path.exists(images_fname) and os.path.exists(labels_fname)):\n",
    "        try:\n",
    "            if not os.path.exists(path):\n",
    "                os.makedirs(path)\n",
    "            \n",
    "            for resource in resources[section]:\n",
    "                import urllib, gzip\n",
    "                filename = resource.rpartition('/')[2]\n",
    "                fpath = os.path.join(path, filename)\n",
    "                urllib.request.urlretrieve(resource, fpath)\n",
    "                with open(fpath.replace('.gz',''), \"wb\") as out_f, gzip.GzipFile(fpath) as zip_f:\n",
    "                    out_f.write(zip_f.read())\n",
    "        except KeyError:\n",
    "            raise ValueError(\"Failed to download data. Collect it manually from http://yann.lecun.com/exdb/mnist/\")\n",
    "            \n",
    "    returns = ()\n",
    "    if 'x' in ret:\n",
    "        with open(images_fname, 'rb') as fimg:\n",
    "            magic_nr, size, d0, d1 = struct.unpack(\">IIII\", fimg.read(16))\n",
    "            fimg.seek(offset * d0 * d1, 1)\n",
    "            images_raw = array(\"B\", fimg.read(count * d0 * d1))\n",
    "\n",
    "        images = np.asarray(images_raw, dtype=x_dtype).reshape(-1, d0, d1)\n",
    "        if x_dtype == np.uint8:\n",
    "            pass  # already this type\n",
    "        elif x_dtype in (np.float16, np.float32, np.float64):\n",
    "            images /= 255.0\n",
    "        else:\n",
    "            raise ValueError(\"Unsupported value for x_dtype\")\n",
    "\n",
    "        returns += (images,)\n",
    "\n",
    "    if 'y' in ret:\n",
    "        with open(labels_fname, 'rb') as flbl:\n",
    "            magic_nr, size = struct.unpack(\">II\", flbl.read(8))\n",
    "            flbl.seek(offset, 1)\n",
    "            labels_raw = array(\"b\", flbl.read(count))\n",
    "\n",
    "        labels = np.asarray(labels_raw)\n",
    "\n",
    "        returns += (labels,)\n",
    "\n",
    "    if len(returns) == 1:\n",
    "        return returns[0]  # Don't return a tuple of one\n",
    "    else:\n",
    "        return returns"
   ]
  },
  {
   "cell_type": "code",
   "execution_count": 8,
   "id": "0ceec9a9",
   "metadata": {},
   "outputs": [],
   "source": [
    "train_images, train_labels = load_mnist(section = 'training', path = 'MNIST')\n",
    "test_images, test_labels = load_mnist(section = 'testing', path = 'MNIST')"
   ]
  },
  {
   "cell_type": "code",
   "execution_count": 9,
   "id": "6a6236b1",
   "metadata": {},
   "outputs": [
    {
     "data": {
      "image/png": "[encoded data removed]",
      "text/plain": [
       "<Figure size 432x288 with 1 Axes>"
      ]
     },
     "metadata": {
      "needs_background": "light"
     },
     "output_type": "display_data"
    }
   ],
   "source": [
    "plt.imshow(train_images[0], cmap='gray', interpolation = 'nearest')\n",
    "plt.show()"
   ]
  },
  {
   "cell_type": "code",
   "execution_count": 10,
   "id": "86af818e",
   "metadata": {},
   "outputs": [],
   "source": [
    "\"\"\"we will reshape the 28x28 grayscale images as \n",
    "784-dimensional vectors, which will be the network's inputs\"\"\"\n",
    "\n",
    "train_images = train_images.reshape(len(train_images), -1)\n",
    "test_images = test_images.reshape(len(test_images), -1)"
   ]
  },
  {
   "cell_type": "code",
   "execution_count": 11,
   "id": "674c1ee6",
   "metadata": {},
   "outputs": [],
   "source": [
    "\"\"\"we manually set the number of input features (784)\n",
    "and number of classes (10) which will be used to\n",
    "define the model\"\"\"\n",
    "\n",
    "nInputs = 784\n",
    "nLabels = 10\n",
    "\n",
    "\"\"\"below, MLPparams is an EDF ParameterPackage whose\n",
    "purpose is to define and store the parameters of the model,\n",
    "while MLPgraph is a function that implements the model's\n",
    "forward pass -- in this case, just a 1-hidden layer MLP\"\"\"\n",
    "\n",
    "class MLPparams(ParameterPackage):\n",
    "    def __init__(self,nInputs, nHiddens, nLabels):\n",
    "        self.first = AffineParams(nInputs,nHiddens)\n",
    "        self.last = AffineParams(nHiddens,nLabels)\n",
    "        \n",
    "def MLPsigmoidgraph(Phi, x):\n",
    "    h = Sigmoid(Affine(Phi.first, x))\n",
    "    return Softmax(Affine(Phi.last, h))\n",
    "\n",
    "\"\"\"we then construct a MLP with 64 hidden units\"\"\"\n",
    "\n",
    "np.random.seed(1234)\n",
    "clear_compgraph()\n",
    "xnode = Input()\n",
    "ynode = Input()\n",
    "nHiddens = 64\n",
    "Phi = MLPparams(nInputs, nHiddens, nLabels)\n",
    "probnode = MLPsigmoidgraph(Phi, xnode)\n",
    "lossnode = LogLoss(probnode, ynode)"
   ]
  },
  {
   "cell_type": "code",
   "execution_count": 12,
   "id": "1d2b73ed",
   "metadata": {},
   "outputs": [],
   "source": [
    "\"\"\"the following functions are used to train the network.\n",
    "training is done by iterating over mini-batches of size 'batch_size'\n",
    "and updating the model's parameters with SGD\"\"\"\n",
    "\n",
    "def run_epoch(batch_size, data, labels, xnode, ynode, probnode, lossnode=None):\n",
    "    num_samples = len(data)\n",
    "    total_err = 0.0\n",
    "    num_batches = num_samples//batch_size\n",
    "    for i in range(num_batches):\n",
    "        start, end = i*batch_size, (i+1)*batch_size\n",
    "        xnode.value = train_images[start:end]\n",
    "        ynode.value = train_labels[start:end]\n",
    "        Forward()\n",
    "        total_err += np.sum(np.not_equal(np.argmax(probnode.value, axis=1), ynode.value))\n",
    "        if lossnode:\n",
    "            Backward(lossnode)\n",
    "            SGD()\n",
    "        if i>0 and i%400 == 0:\n",
    "            print (\"\\t Batch {}/{}\".format(i, num_batches))\n",
    "    return 100*total_err/num_samples\n",
    "\n",
    "def train(num_epochs, batch_size, xnode, ynode, probnode, lossnode):\n",
    "    train_err_log = []\n",
    "    test_err_log = []\n",
    "    for epoch in range(num_epochs):\n",
    "        print(\"Epoch: {}/{}\".format(epoch+1, num_epochs))\n",
    "        train_err = run_epoch(batch_size, train_images, train_labels, xnode, ynode, probnode, lossnode)\n",
    "        train_err_log.append(train_err)\n",
    "        print (\"\\t Training Error {:.2f} %\".format(train_err))\n",
    "        test_err = run_epoch(len(test_images), test_images, test_labels, xnode, ynode, probnode)\n",
    "        test_err_log.append(test_err)\n",
    "        print (\"\\t Test Error {:.2f} %\".format(test_err))\n",
    "    return train_err_log, test_err_log"
   ]
  },
  {
   "cell_type": "code",
   "execution_count": 13,
   "id": "d2e430c9",
   "metadata": {},
   "outputs": [
    {
     "name": "stdout",
     "output_type": "stream",
     "text": [
      "Epoch: 1/10\n",
      "\t Batch 400/937\n",
      "\t Batch 800/937\n",
      "\t Training Error 11.51 %\n",
      "\t Test Error 7.89 %\n",
      "Epoch: 2/10\n",
      "\t Batch 400/937\n",
      "\t Batch 800/937\n",
      "\t Training Error 6.37 %\n",
      "\t Test Error 5.77 %\n",
      "Epoch: 3/10\n",
      "\t Batch 400/937\n",
      "\t Batch 800/937\n",
      "\t Training Error 5.00 %\n",
      "\t Test Error 4.56 %\n",
      "Epoch: 4/10\n",
      "\t Batch 400/937\n",
      "\t Batch 800/937\n",
      "\t Training Error 4.10 %\n",
      "\t Test Error 3.78 %\n",
      "Epoch: 5/10\n",
      "\t Batch 400/937\n",
      "\t Batch 800/937\n",
      "\t Training Error 3.49 %\n",
      "\t Test Error 3.25 %\n",
      "Epoch: 6/10\n",
      "\t Batch 400/937\n",
      "\t Batch 800/937\n",
      "\t Training Error 3.09 %\n",
      "\t Test Error 2.85 %\n",
      "Epoch: 7/10\n",
      "\t Batch 400/937\n",
      "\t Batch 800/937\n",
      "\t Training Error 2.78 %\n",
      "\t Test Error 2.60 %\n",
      "Epoch: 8/10\n",
      "\t Batch 400/937\n",
      "\t Batch 800/937\n",
      "\t Training Error 2.49 %\n",
      "\t Test Error 2.35 %\n",
      "Epoch: 9/10\n",
      "\t Batch 400/937\n",
      "\t Batch 800/937\n",
      "\t Training Error 2.24 %\n",
      "\t Test Error 2.20 %\n",
      "Epoch: 10/10\n",
      "\t Batch 400/937\n",
      "\t Batch 800/937\n",
      "\t Training Error 2.01 %\n",
      "\t Test Error 2.06 %\n"
     ]
    }
   ],
   "source": [
    "\"\"\"now, we are ready to train the network. we can choose SGD's learning rate\n",
    "by changing edf.learning_rate, which we will set as 0.5 for now.\"\"\"\n",
    "\n",
    "num_epochs = 10\n",
    "batch_size = 64\n",
    "learning_rate = 0.5\n",
    "train_err_log, test_err_log = train(num_epochs, batch_size, xnode, ynode, probnode, lossnode)"
   ]
  },
  {
   "cell_type": "code",
   "execution_count": 14,
   "id": "3540eb46",
   "metadata": {},
   "outputs": [
    {
     "data": {
      "image/png": "[encoded data removed]",
      "text/plain": [
       "<Figure size 432x288 with 1 Axes>"
      ]
     },
     "metadata": {
      "needs_background": "light"
     },
     "output_type": "display_data"
    },
    {
     "data": {
      "text/plain": [
       "<Figure size 432x288 with 0 Axes>"
      ]
     },
     "metadata": {},
     "output_type": "display_data"
    }
   ],
   "source": [
    "\"\"\"we can then plot the error per epoch on the training and test data\"\"\"\n",
    "\n",
    "plt.xlabel(\"epochs\")\n",
    "plt.ylabel(\"error (%)\")\n",
    "plt.plot(np.arange(len(test_err_log)), test_err_log, color='red')\n",
    "plt.plot(np.arange(len(train_err_log)), train_err_log, color='blue')\n",
    "plt.legend(['test error', 'train error'], loc='upper right')\n",
    "plt.show()\n",
    "plt.clf()"
   ]
  },
  {
   "cell_type": "code",
   "execution_count": 15,
   "id": "bc5ea145",
   "metadata": {},
   "outputs": [],
   "source": [
    "\"\"\"next, we can implement a ReLU activation function ReLU(x) = max(0,x)\"\"\"\n",
    "\n",
    "class ReLU(CompNode):\n",
    "    def __init__(self, x):\n",
    "        CompNodes.append(self)\n",
    "        self.x = x\n",
    "\n",
    "    def forward(self):\n",
    "        self.value = np.maximum(0, self.x.value)\n",
    "\n",
    "    def backward(self):\n",
    "        self.x.addgrad(self.grad * (self.x.value > 0))\n",
    "        "
   ]
  },
  {
   "cell_type": "code",
   "execution_count": 16,
   "id": "925a5398",
   "metadata": {},
   "outputs": [
    {
     "data": {
      "image/png": "[encoded data removed]",
      "text/plain": [
       "<Figure size 432x288 with 1 Axes>"
      ]
     },
     "metadata": {
      "needs_background": "light"
     },
     "output_type": "display_data"
    },
    {
     "data": {
      "text/plain": [
       "<Figure size 432x288 with 0 Axes>"
      ]
     },
     "metadata": {},
     "output_type": "display_data"
    }
   ],
   "source": [
    "\"\"\"the code below will plot the output and gradients computed by our\n",
    "implementation of the ReLU component above. check if the plots match\n",
    "ReLU(x) and dReLU/dx(x) as a sanity test of our implementation.\"\"\"\n",
    "\n",
    "values = np.linspace(-2,2,100)\n",
    "clear_compgraph()\n",
    "param = Parameter(values[None, :])\n",
    "output = ReLU(param)\n",
    "\n",
    "Forward()\n",
    "Backward(output)\n",
    "\n",
    "plt.xlabel(\"value\")\n",
    "plt.plot(values, output.value[0], color='red')\n",
    "plt.plot(values, param.grad[0], color='blue')\n",
    "plt.legend(['output', 'grad'], loc='upper left')\n",
    "plt.show()\n",
    "plt.clf()"
   ]
  },
  {
   "cell_type": "code",
   "execution_count": 17,
   "id": "62c40fc9",
   "metadata": {},
   "outputs": [],
   "source": [
    "\"\"\"now, train the same network as before but with a ReLU activation\n",
    "in the hidden layer instead of a Sigmoid.\"\"\"\n",
    "\n",
    "def MLPrelugraph(Phi, x):\n",
    "    h = ReLU(Affine(Phi.first, x))\n",
    "    return Softmax(Affine(Phi.last, h))\n",
    "\n",
    "np.random.seed(1234)\n",
    "clear_compgraph()\n",
    "xnode = Input()\n",
    "ynode = Input()\n",
    "nHiddens = 64\n",
    "Phi = MLPparams(nInputs, nHiddens, nLabels)\n",
    "probnode = MLPrelugraph(Phi, xnode)\n",
    "lossnode = LogLoss(probnode, ynode)"
   ]
  },
  {
   "cell_type": "code",
   "execution_count": 18,
   "id": "8ab14aca",
   "metadata": {},
   "outputs": [
    {
     "name": "stdout",
     "output_type": "stream",
     "text": [
      "Epoch: 1/10\n",
      "\t Batch 400/937\n",
      "\t Batch 800/937\n",
      "\t Training Error 7.99 %\n",
      "\t Test Error 6.50 %\n",
      "Epoch: 2/10\n",
      "\t Batch 400/937\n",
      "\t Batch 800/937\n",
      "\t Training Error 3.70 %\n",
      "\t Test Error 4.08 %\n",
      "Epoch: 3/10\n",
      "\t Batch 400/937\n",
      "\t Batch 800/937\n",
      "\t Training Error 2.72 %\n",
      "\t Test Error 2.79 %\n",
      "Epoch: 4/10\n",
      "\t Batch 400/937\n",
      "\t Batch 800/937\n",
      "\t Training Error 2.16 %\n",
      "\t Test Error 2.49 %\n",
      "Epoch: 5/10\n",
      "\t Batch 400/937\n",
      "\t Batch 800/937\n",
      "\t Training Error 1.79 %\n",
      "\t Test Error 2.12 %\n",
      "Epoch: 6/10\n",
      "\t Batch 400/937\n",
      "\t Batch 800/937\n",
      "\t Training Error 1.50 %\n",
      "\t Test Error 2.00 %\n",
      "Epoch: 7/10\n",
      "\t Batch 400/937\n",
      "\t Batch 800/937\n",
      "\t Training Error 1.36 %\n",
      "\t Test Error 2.20 %\n",
      "Epoch: 8/10\n",
      "\t Batch 400/937\n",
      "\t Batch 800/937\n",
      "\t Training Error 1.10 %\n",
      "\t Test Error 1.88 %\n",
      "Epoch: 9/10\n",
      "\t Batch 400/937\n",
      "\t Batch 800/937\n",
      "\t Training Error 0.99 %\n",
      "\t Test Error 1.57 %\n",
      "Epoch: 10/10\n",
      "\t Batch 400/937\n",
      "\t Batch 800/937\n",
      "\t Training Error 0.85 %\n",
      "\t Test Error 1.31 %\n"
     ]
    }
   ],
   "source": [
    "num_epochs = 10\n",
    "batch_size = 64\n",
    "learning_rate = 0.5\n",
    "train_err_log, test_err_log = train(num_epochs, batch_size, xnode, ynode, probnode, lossnode)"
   ]
  },
  {
   "cell_type": "code",
   "execution_count": 19,
   "id": "4655c138",
   "metadata": {},
   "outputs": [
    {
     "data": {
      "image/png": "[encoded data removed]",
      "text/plain": [
       "<Figure size 432x288 with 1 Axes>"
      ]
     },
     "metadata": {
      "needs_background": "light"
     },
     "output_type": "display_data"
    },
    {
     "data": {
      "text/plain": [
       "<Figure size 432x288 with 0 Axes>"
      ]
     },
     "metadata": {},
     "output_type": "display_data"
    }
   ],
   "source": [
    "plt.xlabel(\"epochs\")\n",
    "plt.ylabel(\"error (%)\")\n",
    "plt.plot(np.arange(len(test_err_log)), test_err_log, color='red')\n",
    "plt.plot(np.arange(len(train_err_log)), train_err_log, color='blue')\n",
    "plt.legend(['test error', 'train error'], loc='upper right')\n",
    "plt.show()\n",
    "plt.clf()"
   ]
  },
  {
   "cell_type": "code",
   "execution_count": 20,
   "id": "be365aeb",
   "metadata": {},
   "outputs": [],
   "source": [
    "\"\"\"now, implement the Tanh activation function\"\"\"\n",
    "\n",
    "class Tanh(CompNode):\n",
    "    def __init__(self, x):\n",
    "        CompNodes.append(self)\n",
    "        self.x = x\n",
    "\n",
    "    def forward(self):\n",
    "        # implementation goes here\n",
    "        self.value = (np.exp(self.x.value) - np.exp(-self.x.value)) / (np.exp(self.x.value) + np.exp(-self.x.value))\n",
    "\n",
    "    def backward(self):\n",
    "        # implementation goes here\n",
    "        self.x.addgrad(self.grad * (1 - ((np.exp(self.x.value) - np.exp(-self.x.value)) / (np.exp(self.x.value) + np.exp(-self.x.value)))**2))"
   ]
  },
  {
   "cell_type": "code",
   "execution_count": 21,
   "id": "cd045b41",
   "metadata": {},
   "outputs": [
    {
     "data": {
      "image/png": "[encoded data removed]",
      "text/plain": [
       "<Figure size 432x288 with 1 Axes>"
      ]
     },
     "metadata": {
      "needs_background": "light"
     },
     "output_type": "display_data"
    },
    {
     "data": {
      "text/plain": [
       "<Figure size 432x288 with 0 Axes>"
      ]
     },
     "metadata": {},
     "output_type": "display_data"
    }
   ],
   "source": [
    "\"\"\"again, make sure that the output and gradients plotted below are correct.\"\"\"\n",
    "\n",
    "values = np.linspace(-5,5,100)\n",
    "clear_compgraph()\n",
    "param = Parameter(values[None, :])\n",
    "output = Tanh(param)\n",
    "\n",
    "Forward()\n",
    "Backward(output)\n",
    "\n",
    "plt.xlabel(\"value\")\n",
    "plt.plot(values, output.value[0], color='red')\n",
    "plt.plot(values, param.grad[0], color='blue')\n",
    "plt.legend(['output', 'grad'], loc='upper left')\n",
    "plt.show()\n",
    "plt.clf()"
   ]
  },
  {
   "cell_type": "code",
   "execution_count": 22,
   "id": "878f2718",
   "metadata": {},
   "outputs": [],
   "source": [
    "\"\"\"we can then train a network with a Tanh activation function instead of Sigmoid/ReLU.\"\"\"\n",
    "\n",
    "def MLPtanhgraph(Phi, x):\n",
    "    h = Tanh(Affine(Phi.first, x))\n",
    "    return Softmax(Affine(Phi.last, h))\n",
    "\n",
    "np.random.seed(1234)\n",
    "clear_compgraph()\n",
    "xnode = Input()\n",
    "ynode = Input()\n",
    "nHiddens = 64\n",
    "Phi = MLPparams(nInputs, nHiddens, nLabels)\n",
    "probnode = MLPtanhgraph(Phi, xnode)\n",
    "lossnode = LogLoss(probnode, ynode)"
   ]
  },
  {
   "cell_type": "code",
   "execution_count": 23,
   "id": "dc31c990",
   "metadata": {},
   "outputs": [
    {
     "name": "stdout",
     "output_type": "stream",
     "text": [
      "Epoch: 1/10\n",
      "\t Batch 400/937\n",
      "\t Batch 800/937\n",
      "\t Training Error 8.29 %\n",
      "\t Test Error 6.01 %\n",
      "Epoch: 2/10\n",
      "\t Batch 400/937\n",
      "\t Batch 800/937\n",
      "\t Training Error 4.21 %\n",
      "\t Test Error 4.13 %\n",
      "Epoch: 3/10\n",
      "\t Batch 400/937\n",
      "\t Batch 800/937\n",
      "\t Training Error 3.05 %\n",
      "\t Test Error 2.93 %\n",
      "Epoch: 4/10\n",
      "\t Batch 400/937\n",
      "\t Batch 800/937\n",
      "\t Training Error 2.38 %\n",
      "\t Test Error 2.26 %\n",
      "Epoch: 5/10\n",
      "\t Batch 400/937\n",
      "\t Batch 800/937\n",
      "\t Training Error 1.95 %\n",
      "\t Test Error 1.82 %\n",
      "Epoch: 6/10\n",
      "\t Batch 400/937\n",
      "\t Batch 800/937\n",
      "\t Training Error 1.60 %\n",
      "\t Test Error 1.60 %\n",
      "Epoch: 7/10\n",
      "\t Batch 400/937\n",
      "\t Batch 800/937\n",
      "\t Training Error 1.31 %\n",
      "\t Test Error 1.41 %\n",
      "Epoch: 8/10\n",
      "\t Batch 400/937\n",
      "\t Batch 800/937\n",
      "\t Training Error 1.07 %\n",
      "\t Test Error 1.28 %\n",
      "Epoch: 9/10\n",
      "\t Batch 400/937\n",
      "\t Batch 800/937\n",
      "\t Training Error 0.84 %\n",
      "\t Test Error 1.20 %\n",
      "Epoch: 10/10\n",
      "\t Batch 400/937\n",
      "\t Batch 800/937\n",
      "\t Training Error 0.66 %\n",
      "\t Test Error 1.21 %\n"
     ]
    }
   ],
   "source": [
    "num_epochs = 10\n",
    "batch_size = 64\n",
    "learning_rate = 0.5\n",
    "train_err_log, test_err_log = train(num_epochs, batch_size, xnode, ynode, probnode, lossnode)"
   ]
  },
  {
   "cell_type": "code",
   "execution_count": 24,
   "id": "de207dc1",
   "metadata": {},
   "outputs": [
    {
     "data": {
      "image/png": "[encoded data removed]",
      "text/plain": [
       "<Figure size 432x288 with 1 Axes>"
      ]
     },
     "metadata": {
      "needs_background": "light"
     },
     "output_type": "display_data"
    },
    {
     "data": {
      "text/plain": [
       "<Figure size 432x288 with 0 Axes>"
      ]
     },
     "metadata": {},
     "output_type": "display_data"
    }
   ],
   "source": [
    "plt.xlabel(\"epochs\")\n",
    "plt.ylabel(\"error (%)\")\n",
    "plt.plot(np.arange(len(test_err_log)), test_err_log, color='red')\n",
    "plt.plot(np.arange(len(train_err_log)), train_err_log, color='blue')\n",
    "plt.legend(['test error', 'train error'], loc='upper right')\n",
    "plt.show()\n",
    "plt.clf()"
   ]
  },
  {
   "cell_type": "code",
   "execution_count": 25,
   "id": "5f9712d7",
   "metadata": {},
   "outputs": [
    {
     "name": "stdout",
     "output_type": "stream",
     "text": [
      "Epoch: 1/5\n",
      "\t Batch 400/937\n",
      "\t Batch 800/937\n",
      "\t Training Error 11.90 %\n",
      "\t Test Error 7.51 %\n",
      "Epoch: 2/5\n",
      "\t Batch 400/937\n",
      "\t Batch 800/937\n",
      "\t Training Error 5.98 %\n",
      "\t Test Error 6.27 %\n",
      "Epoch: 3/5\n",
      "\t Batch 400/937\n",
      "\t Batch 800/937\n",
      "\t Training Error 5.00 %\n",
      "\t Test Error 5.59 %\n",
      "Epoch: 4/5\n",
      "\t Batch 400/937\n",
      "\t Batch 800/937\n",
      "\t Training Error 4.41 %\n",
      "\t Test Error 4.72 %\n",
      "Epoch: 5/5\n",
      "\t Batch 400/937\n",
      "\t Batch 800/937\n",
      "\t Training Error 3.87 %\n",
      "\t Test Error 4.53 %\n",
      "Epoch: 1/5\n",
      "\t Batch 400/937\n",
      "\t Batch 800/937\n",
      "\t Training Error 10.08 %\n",
      "\t Test Error 6.81 %\n",
      "Epoch: 2/5\n",
      "\t Batch 400/937\n",
      "\t Batch 800/937\n",
      "\t Training Error 4.96 %\n",
      "\t Test Error 4.68 %\n",
      "Epoch: 3/5\n",
      "\t Batch 400/937\n",
      "\t Batch 800/937\n",
      "\t Training Error 3.71 %\n",
      "\t Test Error 3.51 %\n",
      "Epoch: 4/5\n",
      "\t Batch 400/937\n",
      "\t Batch 800/937\n",
      "\t Training Error 2.98 %\n",
      "\t Test Error 2.86 %\n",
      "Epoch: 5/5\n",
      "\t Batch 400/937\n",
      "\t Batch 800/937\n",
      "\t Training Error 2.51 %\n",
      "\t Test Error 2.39 %\n",
      "Epoch: 1/5\n",
      "\t Batch 400/937\n",
      "\t Batch 800/937\n",
      "\t Training Error 11.51 %\n",
      "\t Test Error 7.89 %\n",
      "Epoch: 2/5\n",
      "\t Batch 400/937\n",
      "\t Batch 800/937\n",
      "\t Training Error 6.37 %\n",
      "\t Test Error 5.77 %\n",
      "Epoch: 3/5\n",
      "\t Batch 400/937\n",
      "\t Batch 800/937\n",
      "\t Training Error 5.00 %\n",
      "\t Test Error 4.56 %\n",
      "Epoch: 4/5\n",
      "\t Batch 400/937\n",
      "\t Batch 800/937\n",
      "\t Training Error 4.10 %\n",
      "\t Test Error 3.78 %\n",
      "Epoch: 5/5\n",
      "\t Batch 400/937\n",
      "\t Batch 800/937\n",
      "\t Training Error 3.49 %\n",
      "\t Test Error 3.25 %\n",
      "Epoch: 1/5\n",
      "\t Batch 400/937\n",
      "\t Batch 800/937\n",
      "\t Training Error 18.05 %\n",
      "\t Test Error 11.01 %\n",
      "Epoch: 2/5\n",
      "\t Batch 400/937\n",
      "\t Batch 800/937\n",
      "\t Training Error 9.90 %\n",
      "\t Test Error 9.09 %\n",
      "Epoch: 3/5\n",
      "\t Batch 400/937\n",
      "\t Batch 800/937\n",
      "\t Training Error 8.65 %\n",
      "\t Test Error 7.99 %\n",
      "Epoch: 4/5\n",
      "\t Batch 400/937\n",
      "\t Batch 800/937\n",
      "\t Training Error 7.83 %\n",
      "\t Test Error 7.26 %\n",
      "Epoch: 5/5\n",
      "\t Batch 400/937\n",
      "\t Batch 800/937\n",
      "\t Training Error 7.27 %\n",
      "\t Test Error 6.65 %\n"
     ]
    }
   ],
   "source": [
    "\"\"\"next, let's check how changing the learning rate affects\n",
    "the model's train and test error (w/ sigmoid and w/ relu activations)\"\"\"\n",
    "\n",
    "num_epochs = 5\n",
    "batch_size = 64\n",
    "learning_rates = [5.0, 1.0, 0.5, 0.1]\n",
    "\n",
    "train_err_per_lr = []\n",
    "test_err_per_lr = []\n",
    "\n",
    "# implementation goes here\n",
    "for lr in learning_rates:\n",
    "    np.random.seed(1234)\n",
    "    clear_compgraph()\n",
    "    xnode = Input()\n",
    "    ynode = Input()\n",
    "    nHiddens = 64\n",
    "    Phi = MLPparams(nInputs, nHiddens, nLabels)\n",
    "    probnode = MLPsigmoidgraph(Phi, xnode)\n",
    "    lossnode = LogLoss(probnode, ynode)\n",
    "    learning_rate = lr\n",
    "    train_err_log, test_err_log = train(num_epochs, batch_size, xnode, ynode, probnode, lossnode)\n",
    "    train_err_per_lr.append(train_err_log[-1])\n",
    "    test_err_per_lr.append(test_err_log[-1])"
   ]
  },
  {
   "cell_type": "code",
   "execution_count": 26,
   "id": "6a199f49",
   "metadata": {},
   "outputs": [],
   "source": [
    "best_sigmoid_lr = learning_rates[test_err_per_lr.index(min(test_err_per_lr))]# implementation goes here"
   ]
  },
  {
   "cell_type": "code",
   "execution_count": 27,
   "id": "34e32976",
   "metadata": {},
   "outputs": [
    {
     "data": {
      "image/png": "[encoded data removed]",
      "text/plain": [
       "<Figure size 432x288 with 1 Axes>"
      ]
     },
     "metadata": {
      "needs_background": "light"
     },
     "output_type": "display_data"
    },
    {
     "data": {
      "text/plain": [
       "<Figure size 432x288 with 0 Axes>"
      ]
     },
     "metadata": {},
     "output_type": "display_data"
    }
   ],
   "source": [
    "plt.xlabel(\"learning rate\")\n",
    "plt.ylabel(\"error (%)\")\n",
    "plt.plot(learning_rates, test_err_per_lr, color='red')\n",
    "plt.plot(learning_rates, train_err_per_lr, color='blue')\n",
    "plt.legend(['test error', 'train error'], loc='upper right')\n",
    "plt.show()\n",
    "plt.clf()"
   ]
  },
  {
   "cell_type": "code",
   "execution_count": 28,
   "id": "943f679f",
   "metadata": {},
   "outputs": [
    {
     "name": "stdout",
     "output_type": "stream",
     "text": [
      "Epoch: 1/5\n",
      "\t Batch 400/937\n",
      "\t Batch 800/937\n",
      "\t Training Error 90.10 %\n",
      "\t Test Error 90.20 %\n",
      "Epoch: 2/5\n",
      "\t Batch 400/937\n",
      "\t Batch 800/937\n",
      "\t Training Error 90.27 %\n",
      "\t Test Error 90.20 %\n",
      "Epoch: 3/5\n",
      "\t Batch 400/937\n",
      "\t Batch 800/937\n",
      "\t Training Error 90.27 %\n",
      "\t Test Error 90.20 %\n",
      "Epoch: 4/5\n",
      "\t Batch 400/937\n",
      "\t Batch 800/937\n",
      "\t Training Error 90.27 %\n",
      "\t Test Error 90.20 %\n",
      "Epoch: 5/5\n",
      "\t Batch 400/937\n",
      "\t Batch 800/937\n",
      "\t Training Error 90.27 %\n",
      "\t Test Error 90.20 %\n",
      "Epoch: 1/5\n",
      "\t Batch 400/937\n",
      "\t Batch 800/937\n",
      "\t Training Error 29.75 %\n",
      "\t Test Error 23.81 %\n",
      "Epoch: 2/5\n",
      "\t Batch 400/937\n",
      "\t Batch 800/937\n",
      "\t Training Error 9.58 %\n",
      "\t Test Error 10.87 %\n",
      "Epoch: 3/5\n",
      "\t Batch 400/937\n",
      "\t Batch 800/937\n",
      "\t Training Error 8.03 %\n",
      "\t Test Error 10.19 %\n",
      "Epoch: 4/5\n",
      "\t Batch 400/937\n",
      "\t Batch 800/937\n",
      "\t Training Error 7.45 %\n",
      "\t Test Error 9.74 %\n",
      "Epoch: 5/5\n",
      "\t Batch 400/937\n",
      "\t Batch 800/937\n",
      "\t Training Error 7.13 %\n",
      "\t Test Error 9.67 %\n",
      "Epoch: 1/5\n",
      "\t Batch 400/937\n",
      "\t Batch 800/937\n",
      "\t Training Error 7.99 %\n",
      "\t Test Error 6.50 %\n",
      "Epoch: 2/5\n",
      "\t Batch 400/937\n",
      "\t Batch 800/937\n",
      "\t Training Error 3.70 %\n",
      "\t Test Error 4.08 %\n",
      "Epoch: 3/5\n",
      "\t Batch 400/937\n",
      "\t Batch 800/937\n",
      "\t Training Error 2.72 %\n",
      "\t Test Error 2.79 %\n",
      "Epoch: 4/5\n",
      "\t Batch 400/937\n",
      "\t Batch 800/937\n",
      "\t Training Error 2.16 %\n",
      "\t Test Error 2.49 %\n",
      "Epoch: 5/5\n",
      "\t Batch 400/937\n",
      "\t Batch 800/937\n",
      "\t Training Error 1.79 %\n",
      "\t Test Error 2.12 %\n",
      "Epoch: 1/5\n",
      "\t Batch 400/937\n",
      "\t Batch 800/937\n",
      "\t Training Error 10.76 %\n",
      "\t Test Error 7.64 %\n",
      "Epoch: 2/5\n",
      "\t Batch 400/937\n",
      "\t Batch 800/937\n",
      "\t Training Error 6.16 %\n",
      "\t Test Error 5.49 %\n",
      "Epoch: 3/5\n",
      "\t Batch 400/937\n",
      "\t Batch 800/937\n",
      "\t Training Error 4.77 %\n",
      "\t Test Error 4.26 %\n",
      "Epoch: 4/5\n",
      "\t Batch 400/937\n",
      "\t Batch 800/937\n",
      "\t Training Error 3.88 %\n",
      "\t Test Error 3.53 %\n",
      "Epoch: 5/5\n",
      "\t Batch 400/937\n",
      "\t Batch 800/937\n",
      "\t Training Error 3.28 %\n",
      "\t Test Error 3.13 %\n"
     ]
    }
   ],
   "source": [
    "\"\"\"now, repeat the experiment above but with a MLP with\n",
    "a ReLU activation functions in the hidden layer\"\"\"\n",
    "\n",
    "train_err_per_lr = []\n",
    "test_err_per_lr = []\n",
    "\n",
    "# implementation goes here\n",
    "for lr in learning_rates:\n",
    "    np.random.seed(1234)\n",
    "    clear_compgraph()\n",
    "    xnode = Input()\n",
    "    ynode = Input()\n",
    "    nHiddens = 64\n",
    "    Phi = MLPparams(nInputs, nHiddens, nLabels)\n",
    "    probnode = MLPrelugraph(Phi, xnode)\n",
    "    lossnode = LogLoss(probnode, ynode)\n",
    "    learning_rate = lr\n",
    "    train_err_log, test_err_log = train(num_epochs, batch_size, xnode, ynode, probnode, lossnode)\n",
    "    train_err_per_lr.append(train_err_log[-1])\n",
    "    test_err_per_lr.append(test_err_log[-1])"
   ]
  },
  {
   "cell_type": "code",
   "execution_count": 29,
   "id": "2132c809",
   "metadata": {},
   "outputs": [],
   "source": [
    "best_relu_lr = learning_rates[test_err_per_lr.index(min(test_err_per_lr))]"
   ]
  },
  {
   "cell_type": "code",
   "execution_count": 30,
   "id": "9c9f1e0a",
   "metadata": {},
   "outputs": [
    {
     "data": {
      "image/png": "[encoded data removed]",
      "text/plain": [
       "<Figure size 432x288 with 1 Axes>"
      ]
     },
     "metadata": {
      "needs_background": "light"
     },
     "output_type": "display_data"
    },
    {
     "data": {
      "text/plain": [
       "<Figure size 432x288 with 0 Axes>"
      ]
     },
     "metadata": {},
     "output_type": "display_data"
    }
   ],
   "source": [
    "plt.xlabel(\"learning rate\")\n",
    "plt.ylabel(\"error (%)\")\n",
    "plt.plot(learning_rates, test_err_per_lr, color='red')\n",
    "plt.plot(learning_rates, train_err_per_lr, color='blue')\n",
    "plt.legend(['test error', 'train error'], loc='upper right')\n",
    "plt.show()\n",
    "plt.clf()"
   ]
  },
  {
   "cell_type": "code",
   "execution_count": 31,
   "id": "344fd740",
   "metadata": {},
   "outputs": [],
   "source": [
    "\"\"\"finally, we will check how the number of hidden layers affects\n",
    "the model's performance. start by re-implementing MLPparams such that\n",
    "it supports multiple layers (note the new nLayers argument). each of the\n",
    "nLayers-1 hidden layers should have nHiddens neurons.\"\"\"\n",
    "\n",
    "class MLPparams(ParameterPackage):\n",
    "    def __init__(self,nInputs, nHiddens, nLabels, nLayers):\n",
    "        # implementation goes here\n",
    "        self.layers = [AffineParams(nInputs, nHiddens)] + \\\n",
    "                      [AffineParams(nHiddens, nHiddens) for i in range(nLayers-2)] + \\\n",
    "                      [AffineParams(nHiddens, nLabels)]\n",
    "        \n",
    "\"\"\"we also re-implement MLPsigmoidgraph and MLPsigmoidgraph\n",
    "so that they both have support for multiple layers\"\"\"\n",
    "        \n",
    "def MLPsigmoidgraph(Phi, x):\n",
    "    # implementation goes here\n",
    "    h = Sigmoid(Affine(Phi.layers[0], x))\n",
    "    for i in range(1, len(Phi.layers)-1):\n",
    "        h = Sigmoid(Affine(Phi.layers[i], h))\n",
    "    return Softmax(Affine(Phi.layers[-1], h))\n",
    "\n",
    "def MLPrelugraph(Phi, x):\n",
    "    # implementation goes here\n",
    "    h = ReLU(Affine(Phi.layers[0], x))\n",
    "    for i in range(1, len(Phi.layers)-1):\n",
    "        h = ReLU(Affine(Phi.layers[i], h))\n",
    "    return Softmax(Affine(Phi.layers[-1], h))"
   ]
  },
  {
   "cell_type": "code",
   "execution_count": 32,
   "id": "de7c78c1",
   "metadata": {},
   "outputs": [
    {
     "name": "stdout",
     "output_type": "stream",
     "text": [
      "Epoch: 1/5\n",
      "\t Batch 400/937\n",
      "\t Batch 800/937\n",
      "\t Training Error 10.08 %\n",
      "\t Test Error 6.81 %\n",
      "Epoch: 2/5\n",
      "\t Batch 400/937\n",
      "\t Batch 800/937\n",
      "\t Training Error 4.96 %\n",
      "\t Test Error 4.68 %\n",
      "Epoch: 3/5\n",
      "\t Batch 400/937\n",
      "\t Batch 800/937\n",
      "\t Training Error 3.71 %\n",
      "\t Test Error 3.51 %\n",
      "Epoch: 4/5\n",
      "\t Batch 400/937\n",
      "\t Batch 800/937\n",
      "\t Training Error 2.98 %\n",
      "\t Test Error 2.86 %\n",
      "Epoch: 5/5\n",
      "\t Batch 400/937\n",
      "\t Batch 800/937\n",
      "\t Training Error 2.51 %\n",
      "\t Test Error 2.39 %\n",
      "Epoch: 1/5\n",
      "\t Batch 400/937\n",
      "\t Batch 800/937\n",
      "\t Training Error 29.66 %\n",
      "\t Test Error 11.85 %\n",
      "Epoch: 2/5\n",
      "\t Batch 400/937\n",
      "\t Batch 800/937\n",
      "\t Training Error 6.59 %\n",
      "\t Test Error 7.13 %\n",
      "Epoch: 3/5\n",
      "\t Batch 400/937\n",
      "\t Batch 800/937\n",
      "\t Training Error 4.45 %\n",
      "\t Test Error 5.51 %\n",
      "Epoch: 4/5\n",
      "\t Batch 400/937\n",
      "\t Batch 800/937\n",
      "\t Training Error 3.43 %\n",
      "\t Test Error 4.33 %\n",
      "Epoch: 5/5\n",
      "\t Batch 400/937\n",
      "\t Batch 800/937\n",
      "\t Training Error 2.75 %\n",
      "\t Test Error 3.33 %\n",
      "Epoch: 1/5\n",
      "\t Batch 400/937\n",
      "\t Batch 800/937\n",
      "\t Training Error 89.78 %\n",
      "\t Test Error 89.30 %\n",
      "Epoch: 2/5\n",
      "\t Batch 400/937\n",
      "\t Batch 800/937\n",
      "\t Training Error 89.45 %\n",
      "\t Test Error 89.30 %\n",
      "Epoch: 3/5\n",
      "\t Batch 400/937\n",
      "\t Batch 800/937\n",
      "\t Training Error 89.39 %\n",
      "\t Test Error 89.30 %\n",
      "Epoch: 4/5\n",
      "\t Batch 400/937\n",
      "\t Batch 800/937\n",
      "\t Training Error 89.34 %\n",
      "\t Test Error 89.30 %\n",
      "Epoch: 5/5\n",
      "\t Batch 400/937\n",
      "\t Batch 800/937\n",
      "\t Training Error 89.33 %\n",
      "\t Test Error 89.30 %\n"
     ]
    }
   ],
   "source": [
    "\"\"\"similarly to the exploration with different learning rates,\n",
    "we will see how the depth of the network affects its performance,\n",
    "first for a sigmoid network. fill the missing code to populate\n",
    "train_err_per_depth and test_err_per_depth accordingly\"\"\"\n",
    "\n",
    "learning_rate = best_sigmoid_lr\n",
    "num_epochs = 5\n",
    "batch_size = 64\n",
    "num_layers = [2, 4, 6]\n",
    "\n",
    "train_err_per_depth = []\n",
    "test_err_per_depth = []\n",
    "\n",
    "# implementation goes here\n",
    "for nl in num_layers:\n",
    "    np.random.seed(1234)\n",
    "    clear_compgraph()\n",
    "    xnode = Input()\n",
    "    ynode = Input()\n",
    "    nHiddens = 64\n",
    "    Phi = MLPparams(nInputs, nHiddens, nLabels, nl)\n",
    "    probnode = MLPsigmoidgraph(Phi, xnode)\n",
    "    lossnode = LogLoss(probnode, ynode)\n",
    "    train_err_log, test_err_log = train(num_epochs, batch_size, xnode, ynode, probnode, lossnode)\n",
    "    train_err_per_depth.append(train_err_log[-1])\n",
    "    test_err_per_depth.append(test_err_log[-1])"
   ]
  },
  {
   "cell_type": "code",
   "execution_count": 33,
   "id": "b2fc712c",
   "metadata": {},
   "outputs": [
    {
     "data": {
      "image/png": "[encoded data removed]",
      "text/plain": [
       "<Figure size 432x288 with 1 Axes>"
      ]
     },
     "metadata": {
      "needs_background": "light"
     },
     "output_type": "display_data"
    },
    {
     "data": {
      "text/plain": [
       "<Figure size 432x288 with 0 Axes>"
      ]
     },
     "metadata": {},
     "output_type": "display_data"
    }
   ],
   "source": [
    "plt.xlabel(\"depth\")\n",
    "plt.ylabel(\"error (%)\")\n",
    "plt.plot(num_layers, test_err_per_depth, color='red')\n",
    "plt.plot(num_layers, train_err_per_depth, color='blue')\n",
    "plt.legend(['test error', 'train error'], loc='upper right')\n",
    "plt.show()\n",
    "plt.clf()"
   ]
  },
  {
   "cell_type": "code",
   "execution_count": 34,
   "id": "bc5e5bcb",
   "metadata": {},
   "outputs": [
    {
     "name": "stdout",
     "output_type": "stream",
     "text": [
      "Epoch: 1/5\n",
      "\t Batch 400/937\n",
      "\t Batch 800/937\n",
      "\t Training Error 10.04 %\n",
      "\t Test Error 7.78 %\n",
      "Epoch: 2/5\n",
      "\t Batch 400/937\n",
      "\t Batch 800/937\n",
      "\t Training Error 4.32 %\n",
      "\t Test Error 4.53 %\n",
      "Epoch: 3/5\n",
      "\t Batch 400/937\n",
      "\t Batch 800/937\n",
      "\t Training Error 3.24 %\n",
      "\t Test Error 3.67 %\n",
      "Epoch: 4/5\n",
      "\t Batch 400/937\n",
      "\t Batch 800/937\n",
      "\t Training Error 2.72 %\n",
      "\t Test Error 3.22 %\n",
      "Epoch: 5/5\n",
      "\t Batch 400/937\n",
      "\t Batch 800/937\n",
      "\t Training Error 2.31 %\n",
      "\t Test Error 2.38 %\n",
      "Epoch: 1/5\n",
      "\t Batch 400/937\n",
      "\t Batch 800/937\n",
      "\t Training Error 21.55 %\n",
      "\t Test Error 10.29 %\n",
      "Epoch: 2/5\n",
      "\t Batch 400/937\n",
      "\t Batch 800/937\n",
      "\t Training Error 6.56 %\n",
      "\t Test Error 6.50 %\n",
      "Epoch: 3/5\n",
      "\t Batch 400/937\n",
      "\t Batch 800/937\n",
      "\t Training Error 5.16 %\n",
      "\t Test Error 5.43 %\n",
      "Epoch: 4/5\n",
      "\t Batch 400/937\n",
      "\t Batch 800/937\n",
      "\t Training Error 4.54 %\n",
      "\t Test Error 4.51 %\n",
      "Epoch: 5/5\n",
      "\t Batch 400/937\n",
      "\t Batch 800/937\n",
      "\t Training Error 3.96 %\n",
      "\t Test Error 4.88 %\n",
      "Epoch: 1/5\n",
      "\t Batch 400/937\n",
      "\t Batch 800/937\n",
      "\t Training Error 66.35 %\n",
      "\t Test Error 41.56 %\n",
      "Epoch: 2/5\n",
      "\t Batch 400/937\n",
      "\t Batch 800/937\n",
      "\t Training Error 82.00 %\n",
      "\t Test Error 89.99 %\n",
      "Epoch: 3/5\n",
      "\t Batch 400/937\n",
      "\t Batch 800/937\n",
      "\t Training Error 90.08 %\n",
      "\t Test Error 89.99 %\n",
      "Epoch: 4/5\n",
      "\t Batch 400/937\n",
      "\t Batch 800/937\n",
      "\t Training Error 90.08 %\n",
      "\t Test Error 89.99 %\n",
      "Epoch: 5/5\n",
      "\t Batch 400/937\n",
      "\t Batch 800/937\n",
      "\t Training Error 90.08 %\n",
      "\t Test Error 89.99 %\n"
     ]
    }
   ],
   "source": [
    "\"\"\"repeat the above experiment but for a ReLU MLP\"\"\"\n",
    "\n",
    "learning_rate = best_relu_lr\n",
    "num_epochs = 5\n",
    "batch_size = 64\n",
    "num_layers = [3, 5, 10]\n",
    "\n",
    "train_err_per_depth = []\n",
    "test_err_per_depth = []\n",
    "\n",
    "# implementation goes here\n",
    "for nl in num_layers:\n",
    "    np.random.seed(1234)\n",
    "    clear_compgraph()\n",
    "    xnode = Input()\n",
    "    ynode = Input()\n",
    "    nHiddens = 64\n",
    "    Phi = MLPparams(nInputs, nHiddens, nLabels, nl)\n",
    "    probnode = MLPrelugraph(Phi, xnode)\n",
    "    lossnode = LogLoss(probnode, ynode)\n",
    "    train_err_log, test_err_log = train(num_epochs, batch_size, xnode, ynode, probnode, lossnode)\n",
    "    train_err_per_depth.append(train_err_log[-1])\n",
    "    test_err_per_depth.append(test_err_log[-1])"
   ]
  },
  {
   "cell_type": "code",
   "execution_count": 35,
   "id": "912fd3f8",
   "metadata": {},
   "outputs": [
    {
     "data": {
      "image/png": "[encoded data removed]",
      "text/plain": [
       "<Figure size 432x288 with 1 Axes>"
      ]
     },
     "metadata": {
      "needs_background": "light"
     },
     "output_type": "display_data"
    },
    {
     "data": {
      "text/plain": [
       "<Figure size 432x288 with 0 Axes>"
      ]
     },
     "metadata": {},
     "output_type": "display_data"
    }
   ],
   "source": [
    "plt.xlabel(\"depth\")\n",
    "plt.ylabel(\"error (%)\")\n",
    "plt.plot(num_layers, test_err_per_depth, color='red')\n",
    "plt.plot(num_layers, train_err_per_depth, color='blue')\n",
    "plt.legend(['test error', 'train error'], loc='upper right')\n",
    "plt.show()\n",
    "plt.clf()"
   ]
  }
 ],
 "metadata": {
  "kernelspec": {
   "display_name": "Python 3 (ipykernel)",
   "language": "python",
   "name": "python3"
  },
  "language_info": {
   "codemirror_mode": {
    "name": "ipython",
    "version": 3
   },
   "file_extension": ".py",
   "mimetype": "text/x-python",
   "name": "python",
   "nbconvert_exporter": "python",
   "pygments_lexer": "ipython3",
   "version": "3.8.8"
  }
 },
 "nbformat": 4,
 "nbformat_minor": 5
}
