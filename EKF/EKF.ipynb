{
 "cells": [
  {
   "cell_type": "markdown",
   "id": "16341687",
   "metadata": {},
   "source": [
    "# Extended Kalman Filter\n",
    "We are developing a new vacuum cleaning robot that will estimate its position and orientation in a room in order to be more efficient and precise at vacuuming. The robot's state $$x_t = [x_t, y_t, \\theta_t]^T$$ consists of its position $(x_t, y_t)$ and orientation $\\theta_t$. The robot is nonholonomic and its motion is described by the following nonlinear motion model:\n",
    "\n",
    "<img src=\"https://render.githubusercontent.com/render/math?math={x_t = x_{t-1} ++ (d_t + v_{d,t})cos(\\theta_{t-1})}\">\n",
    "\n",
    "$$x_t = x_{t-1} + (d_t + v_{d,t})cos(\\theta_{t-1})$$\n",
    "$$y_t = y_{t-1} + (d_t + v_{d,t})sin(\\theta_{t-1})$$\n",
    "$$\\theta_t = \\theta_{t-1} + \\delta\\theta_t+v_{\\theta,t-1}$$\n",
    "\n",
    "where the control data $u_t = [d_t, \\delta\\theta_t]^t$ consists of the body-relative forward distance that the robot moved $d_t$ and its change in orientation $\\delta\\theta_t$, both measured using wheel encoders. The term $v_t = [v_{d,t}, v_{\\theta, t}]^t \\sim N(0, Q)$ is additive zero-mean Gaussian noice and, without loss of generality, we assume that the sensor is at the origin, $(x, y) = (0, 0)$.\n",
    "\n",
    "<br/><br/>\n",
    "Owing to the unvertainty in the motion and measurements, we would like to deliver the robot with software that maintains the belief over its current pose abased upon an uncertain motion model and noisy observations from the ceiling-mounted sensor. The system is nonlinear and we would like to use an Extended Kalman Filter (EKF) to maintain the belief $bel(x_t)$ as a Gaussian distribution, which involves linearizing the process and measurement models about the current mean:\n",
    "\n",
    "$$x_t = f(\\mu_{t-1},\\mu_t)+F(x_{t-1} - \\mu_t) + Gv_t\\quad v_t\\sim N(0, R_t)$$\n",
    "$$z_t = h(\\mu_t)+H(x_t - \\mu_t) + w_t\\qquad w_t\\sim N(0, Q_t)$$\n",
    "where the Jacobians $F$ and $H$ are evaluated at mean state estimate:\n",
    "$$F = \\frac{\\partial f}{\\partial x}\\bigg\\rvert_{(x_{t-1} = \\mu_{t-1}, u_t)}$$\n",
    "$$G = \\frac{\\partial f}{\\partial v}\\bigg\\rvert_{(x_{t-1} = \\mu_{t-1}, u_t)}$$\n",
    "$$H = \\frac{\\partial h}{\\partial x}\\bigg\\rvert_{(x_t=\\mu_t, u_t)}$$\n",
    "The EKF prediction step follows as:\n",
    "$$\\bar \\mu_t=f(\\mu_{t+1},\\mu_t)$$\n",
    "$$\\bar \\Sigma_t=F_t\\Sigma_{t-1}F_t^T + G_tR_tG_t^T$$\n",
    "\n",
    "The subsequent measurement update step proceeds as\n",
    "$$K_t = \\bar\\Sigma_tH_t^T(H_t\\bar\\Sigma_tH_t^T+Q_t)^{-1}$$\n",
    "$$\\mu_t = \\bar\\mu_t+K_t(z_t-h_t(\\mu_t))$$\n",
    "$$\\Sigma_t=(I-K_tH_t)\\bar\\Sigma_t$$\n",
    "\n",
    "<br/><br/>\n",
    "Here, we implement an EKF to estimate the robot's trajectory (post history) given a stream of control and measurement data. For this purpose, we assume that the process and measurement noise covariances, $R_t$ and $Q_t$, respectively, are as follows:\n",
    "\n",
    "\n",
    "$$ R_t=1.0E^{-1}\n",
    "\t\\begin{bmatrix} \n",
    "\t0.1 & 0.0 \\\\\n",
    "\t0.0 & 4\\pi/180\\\\\n",
    "\t\\end{bmatrix}\n",
    "$$\n",
    "$$ Q_t=1.0E^{-1}\n",
    "\t\\begin{bmatrix} \n",
    "\t1.0 & 0.0 \\\\\n",
    "\t0.0 & \\pi/180\\\\\n",
    "\t\\end{bmatrix}\n",
    "$$\n",
    "\n",
    "We have two text files U.txt and Z.txt that contain the control and measurement data, respectively, and an XYT.txt text file that includes the robot's ground-truth pose. Each row corresponds to a different time instant with the first row being $t=1$ (i.e. the first step will be a prediction from $t=0$ to $t=1$, since there is no measurement at $t=0$). The Renderer.py file provides routines for visualizing the estimated robot pose and the associated uncertainty in the form of a level-set ellipse (both in red), the ground-truth pose (in green), as well as the final errors along with the three-sigma error bars.\n",
    "<br/><br>\n",
    "\n",
    "The RunEKF.py reads the data files and runs the EKF, can be called as\n",
    "```\n",
    "python RunEKF.py U.txt Z.txt XYT.txt\n",
    "```"
   ]
  },
  {
   "cell_type": "markdown",
   "id": "55bee2af",
   "metadata": {},
   "source": [
    "### 1. EKF with only the prediction step\n",
    "<img src='./images/EKF01.PNG' width=\"300\" height=\"400\"><img src='./images/EKF02.PNG' width=\"400\" height=\"400\">"
   ]
  },
  {
   "cell_type": "markdown",
   "id": "a6a8658b",
   "metadata": {},
   "source": [
    "### 2. Full EKF with the default setting of the noise covariance matrices\n",
    "<img src='./images/EKF11.PNG' width=\"300\" height=\"300\"><img src='./images/EKF12.PNG' width=\"400\" height=\"400\">"
   ]
  },
  {
   "cell_type": "markdown",
   "id": "c47ee25a",
   "metadata": {},
   "source": [
    "We can also experiment with different settings for the initial uncertainty and the settings for the covariance matrices $Q$ and $R$ (though be sure to preserve symmetric and positive semi-definiteness). In particular, an important aspect of KFs and EKFs is their sensitivity to the noise parameters. If you over-estimate the accuracy of the process and measurement models/data, the filter will become overconfident. This occurs when the variance of the estimator (i.e., the uncertainty in the state estimates), as expressed by the covariance, is too low. This can be seen when the errors fall outside the intervals indicated by the standard deviation more often than should occur.\n",
    "\n",
    "### 3. EKF with $\\frac{1}{100}R$\n",
    "<img src='./images/EKF21.PNG' width=\"300\" height=\"300\"><img src='./images/EKF22.PNG' width=\"400\" height=\"400\">\n",
    "\n",
    "### 4. EKF with $\\frac{1}{1000}R$\n",
    "<img src='./images/EKF31.PNG' width=\"300\" height=\"300\"><img src='./images/EKF32.PNG' width=\"400\" height=\"400\">\n",
    "\n",
    "### 5. EKF with $\\frac{1}{10000}R$\n",
    "<img src='./images/EKF41.PNG' width=\"300\" height=\"300\"><img src='./images/EKF42.PNG' width=\"400\" height=\"400\">"
   ]
  }
 ],
 "metadata": {
  "kernelspec": {
   "display_name": "Python 3 (ipykernel)",
   "language": "python",
   "name": "python3"
  },
  "language_info": {
   "codemirror_mode": {
    "name": "ipython",
    "version": 3
   },
   "file_extension": ".py",
   "mimetype": "text/x-python",
   "name": "python",
   "nbconvert_exporter": "python",
   "pygments_lexer": "ipython3",
   "version": "3.8.8"
  }
 },
 "nbformat": 4,
 "nbformat_minor": 5
}
