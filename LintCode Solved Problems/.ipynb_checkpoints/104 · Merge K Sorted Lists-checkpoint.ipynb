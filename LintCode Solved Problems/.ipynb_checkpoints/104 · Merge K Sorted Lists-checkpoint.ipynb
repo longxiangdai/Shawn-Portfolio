{
 "cells": [
  {
   "cell_type": "code",
   "execution_count": null,
   "id": "79069b7e",
   "metadata": {},
   "outputs": [],
   "source": [
    "from heapq import heappush, heappop\n",
    "\"\"\"\n",
    "Definition of ListNode\n",
    "class ListNode(object):\n",
    "\n",
    "    def __init__(self, val, next=None):\n",
    "        self.val = val\n",
    "        self.next = next\n",
    "\"\"\"\n",
    "class Solution:\n",
    "    \"\"\"\n",
    "    @param lists: a list of ListNode\n",
    "    @return: The head of one sorted list.\n",
    "    \"\"\"\n",
    "    def mergeKLists(self, lists):\n",
    "        if len(lists) == 1 and lists[0] is None:\n",
    "            return None\n",
    "        h = []\n",
    "        for node in lists:\n",
    "            while node is not None:\n",
    "                heappush(h, node.val)\n",
    "                node = node.next\n",
    "        root = ListNode(heappop(h))\n",
    "        node = root\n",
    "        while h:\n",
    "            node.next = ListNode(heappop(h))\n",
    "            node = node.next\n",
    "        return root"
   ]
  }
 ],
 "metadata": {
  "kernelspec": {
   "display_name": "Python 3 (ipykernel)",
   "language": "python",
   "name": "python3"
  },
  "language_info": {
   "codemirror_mode": {
    "name": "ipython",
    "version": 3
   },
   "file_extension": ".py",
   "mimetype": "text/x-python",
   "name": "python",
   "nbconvert_exporter": "python",
   "pygments_lexer": "ipython3",
   "version": "3.8.8"
  }
 },
 "nbformat": 4,
 "nbformat_minor": 5
}
