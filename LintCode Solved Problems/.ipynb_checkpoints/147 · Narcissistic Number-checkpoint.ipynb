{
 "cells": [
  {
   "cell_type": "code",
   "execution_count": null,
   "id": "45c40d80",
   "metadata": {},
   "outputs": [],
   "source": [
    "from typing import (\n",
    "    List,\n",
    ")\n",
    "\n",
    "class Solution:\n",
    "    \"\"\"\n",
    "    @param n: The number of digits\n",
    "    @return: All narcissistic numbers with n digits\n",
    "    \"\"\"\n",
    "    def get_narcissistic_numbers(self, n: int) -> List[int]:\n",
    "        if n == 1:\n",
    "            return list(range(0, 10))\n",
    "        result = []\n",
    "        for i in range(10**(n-1),10**n):\n",
    "            if sum([int(x)**n for x in str(i)]) == i:\n",
    "                result.append(i)\n",
    "        return result"
   ]
  }
 ],
 "metadata": {
  "kernelspec": {
   "display_name": "Python 3 (ipykernel)",
   "language": "python",
   "name": "python3"
  },
  "language_info": {
   "codemirror_mode": {
    "name": "ipython",
    "version": 3
   },
   "file_extension": ".py",
   "mimetype": "text/x-python",
   "name": "python",
   "nbconvert_exporter": "python",
   "pygments_lexer": "ipython3",
   "version": "3.8.8"
  }
 },
 "nbformat": 4,
 "nbformat_minor": 5
}
