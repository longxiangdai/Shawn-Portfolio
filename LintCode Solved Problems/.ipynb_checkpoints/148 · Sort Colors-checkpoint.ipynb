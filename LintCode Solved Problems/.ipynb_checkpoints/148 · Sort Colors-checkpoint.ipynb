{
 "cells": [
  {
   "cell_type": "code",
   "execution_count": null,
   "id": "eee9c975",
   "metadata": {},
   "outputs": [],
   "source": [
    "from typing import (\n",
    "    List,\n",
    ")\n",
    "\n",
    "class Solution:\n",
    "    \"\"\"\n",
    "    @param nums: A list of integer which is 0, 1 or 2\n",
    "    @return: nothing\n",
    "    \"\"\"\n",
    "\n",
    "    \"\"\"\n",
    "    def sort_colors(self, nums: List[int]): # O(n)\n",
    "        last_small_pointer = self.partition_array(nums, 1, -1)\n",
    "        self.partition_array(nums, 2, last_small_pointer)\n",
    "\n",
    "    def partition_array(self, nums, k, last_small_pointer):\n",
    "        for i in range(last_small_pointer+1, len(nums)):\n",
    "            x = nums[i]\n",
    "            if x < k:\n",
    "                last_small_pointer += 1\n",
    "                nums[last_small_pointer], nums[i] = nums[i], nums[last_small_pointer]\n",
    "        return last_small_pointer\n",
    "    \"\"\"\n",
    "    def sort_colors(self, nums: List[int]):\n",
    "        if len(nums) <= 1:\n",
    "            return\n",
    "        n = len(nums)\n",
    "        left, index, right = 0, 0, n - 1\n",
    "        while index <= right:\n",
    "            if nums[index] == 0:\n",
    "                nums[left], nums[index] = nums[index], nums[left]\n",
    "                left += 1\n",
    "                index += 1\n",
    "            elif nums[index] == 2:\n",
    "                nums[right], nums[index] = nums[index], nums[right]\n",
    "                right -= 1\n",
    "            else:\n",
    "                index += 1\n",
    "        \n",
    "        "
   ]
  }
 ],
 "metadata": {
  "kernelspec": {
   "display_name": "Python 3 (ipykernel)",
   "language": "python",
   "name": "python3"
  },
  "language_info": {
   "codemirror_mode": {
    "name": "ipython",
    "version": 3
   },
   "file_extension": ".py",
   "mimetype": "text/x-python",
   "name": "python",
   "nbconvert_exporter": "python",
   "pygments_lexer": "ipython3",
   "version": "3.8.8"
  }
 },
 "nbformat": 4,
 "nbformat_minor": 5
}
