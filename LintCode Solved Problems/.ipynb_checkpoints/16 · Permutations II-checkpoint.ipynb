{
 "cells": [
  {
   "cell_type": "markdown",
   "id": "fa9fa6ce",
   "metadata": {},
   "source": [
    "# Description\n",
    "Given a list of numbers with duplicate numbers in it. Find all unique permutations of it."
   ]
  },
  {
   "cell_type": "code",
   "execution_count": 1,
   "id": "daec2baa",
   "metadata": {},
   "outputs": [],
   "source": [
    "from typing import (\n",
    "    List,\n",
    ")\n",
    "\n",
    "class Solution:\n",
    "    \"\"\"\n",
    "    @param nums: A list of integers\n",
    "    @return: A list of unique permutations\n",
    "             we will sort your return value in output\n",
    "    \"\"\"\n",
    "    def permute_unique(self, nums: List[int]) -> List[List[int]]:\n",
    "        nums.sort()\n",
    "        if not nums:\n",
    "            return [[]]\n",
    "        permutations = []\n",
    "        self.dfs(nums, [], set(), permutations)\n",
    "        return permutations\n",
    "    \n",
    "    def dfs(self, nums, permutation, visited, permutations):\n",
    "        if len(permutation) == len(nums):\n",
    "            permutations.append(list(permutation))\n",
    "            return\n",
    "        for i in range(len(nums)):\n",
    "            if i in visited:\n",
    "                continue\n",
    "            if i > 0 and i-1 not in visited and nums[i] == nums[i-1]:\n",
    "                continue\n",
    "\n",
    "            permutation.append(nums[i])\n",
    "            visited.add(i)\n",
    "            self.dfs(nums, permutation, visited, permutations)\n",
    "            permutation.pop()\n",
    "            visited.remove(i)\n",
    "\n"
   ]
  },
  {
   "cell_type": "code",
   "execution_count": 2,
   "id": "11795dff",
   "metadata": {},
   "outputs": [],
   "source": [
    "nums = [1,1] "
   ]
  },
  {
   "cell_type": "code",
   "execution_count": 3,
   "id": "30b4757f",
   "metadata": {},
   "outputs": [
    {
     "data": {
      "text/plain": [
       "[[1, 1]]"
      ]
     },
     "execution_count": 3,
     "metadata": {},
     "output_type": "execute_result"
    }
   ],
   "source": [
    "s = Solution()\n",
    "s.permute_unique(nums)"
   ]
  },
  {
   "cell_type": "code",
   "execution_count": 4,
   "id": "8250c8c5",
   "metadata": {},
   "outputs": [],
   "source": [
    "nums = [1,2,2] "
   ]
  },
  {
   "cell_type": "code",
   "execution_count": 5,
   "id": "8f997b09",
   "metadata": {},
   "outputs": [
    {
     "data": {
      "text/plain": [
       "[[1, 2, 2], [2, 1, 2], [2, 2, 1]]"
      ]
     },
     "execution_count": 5,
     "metadata": {},
     "output_type": "execute_result"
    }
   ],
   "source": [
    "s = Solution()\n",
    "s.permute_unique(nums)"
   ]
  },
  {
   "cell_type": "code",
   "execution_count": null,
   "id": "25be2786",
   "metadata": {},
   "outputs": [],
   "source": []
  }
 ],
 "metadata": {
  "kernelspec": {
   "display_name": "Python 3 (ipykernel)",
   "language": "python",
   "name": "python3"
  },
  "language_info": {
   "codemirror_mode": {
    "name": "ipython",
    "version": 3
   },
   "file_extension": ".py",
   "mimetype": "text/x-python",
   "name": "python",
   "nbconvert_exporter": "python",
   "pygments_lexer": "ipython3",
   "version": "3.8.8"
  }
 },
 "nbformat": 4,
 "nbformat_minor": 5
}
