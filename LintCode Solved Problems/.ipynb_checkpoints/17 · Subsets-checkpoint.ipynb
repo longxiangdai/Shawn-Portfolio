{
 "cells": [
  {
   "cell_type": "markdown",
   "id": "29022df3",
   "metadata": {},
   "source": [
    "# Description\n",
    "Given a set with distinct integers, return all possible subsets."
   ]
  },
  {
   "cell_type": "markdown",
   "id": "dca300da",
   "metadata": {},
   "source": [
    "# Solution 1: Bitwise Operation"
   ]
  },
  {
   "cell_type": "code",
   "execution_count": 1,
   "id": "bf52f08a",
   "metadata": {},
   "outputs": [],
   "source": [
    "from typing import (\n",
    "    List,\n",
    ")\n",
    "\n",
    "class Solution:\n",
    "    \"\"\"\n",
    "    @param nums: A set of numbers\n",
    "    @return: A list of lists\n",
    "             we will sort your return value in output\n",
    "    \"\"\"\n",
    "    def subsets(self, nums: List[int]) -> List[List[int]]:\n",
    "        nums.sort()\n",
    "        size = len(nums)\n",
    "        results = []\n",
    "        for mask in range(1 << size):\n",
    "            comb = []\n",
    "            for i in range(size):\n",
    "                if mask & 1 << i:\n",
    "                    comb.append(nums[i])\n",
    "            results.append(comb)\n",
    "        return results"
   ]
  },
  {
   "cell_type": "code",
   "execution_count": 2,
   "id": "a77816da",
   "metadata": {},
   "outputs": [
    {
     "data": {
      "text/plain": [
       "[[], [0]]"
      ]
     },
     "execution_count": 2,
     "metadata": {},
     "output_type": "execute_result"
    }
   ],
   "source": [
    "nums = [0]\n",
    "s = Solution()\n",
    "s.subsets(nums)"
   ]
  },
  {
   "cell_type": "code",
   "execution_count": 3,
   "id": "edc2ad2c",
   "metadata": {},
   "outputs": [
    {
     "data": {
      "text/plain": [
       "[[], [1], [2], [1, 2], [3], [1, 3], [2, 3], [1, 2, 3]]"
      ]
     },
     "execution_count": 3,
     "metadata": {},
     "output_type": "execute_result"
    }
   ],
   "source": [
    "nums = [1,2,3]\n",
    "s = Solution()\n",
    "s.subsets(nums)"
   ]
  },
  {
   "cell_type": "markdown",
   "id": "a842bed2",
   "metadata": {},
   "source": [
    "# Solution 2: DFS"
   ]
  },
  {
   "cell_type": "code",
   "execution_count": 4,
   "id": "b1735956",
   "metadata": {},
   "outputs": [],
   "source": [
    "from typing import (\n",
    "    List,\n",
    ")\n",
    "\n",
    "class Solution:\n",
    "    \"\"\"\n",
    "    @param nums: A set of numbers\n",
    "    @return: A list of lists\n",
    "             we will sort your return value in output\n",
    "    \"\"\"\n",
    "    def subsets(self, nums: List[int]) -> List[List[int]]:\n",
    "        if not nums:\n",
    "            return [[]]\n",
    "        nums.sort()\n",
    "        results = []\n",
    "        self.dfs(nums, 0, [], results)\n",
    "        return results\n",
    "\n",
    "    def dfs(self, nums, index, pre_subset, results):\n",
    "        results.append(list(pre_subset))\n",
    "        for i in range(index, len(nums)):\n",
    "            # e.g. [1] => find subsets starting with [1, 2]\n",
    "            pre_subset.append(nums[i])\n",
    "            self.dfs(nums, i + 1, pre_subset, results)\n",
    "            # [1,2] => [1]\n",
    "            pre_subset.pop()\n",
    "    \"\"\"\n",
    "    def dfs(self, nums, index, pre_subset, results):\n",
    "        if index == len(nums):\n",
    "            results.append(list(pre_subset))\n",
    "            return\n",
    "\n",
    "        # include nums[index]\n",
    "        pre_subset.append(nums[index])\n",
    "        self.dfs(nums, index + 1, pre_subset, results)\n",
    "\n",
    "        # exclude nums[index]\n",
    "        pre_subset.pop()\n",
    "        self.dfs(nums, index + 1, pre_subset, results)\n",
    "    \"\"\""
   ]
  },
  {
   "cell_type": "code",
   "execution_count": 5,
   "id": "59dac222",
   "metadata": {},
   "outputs": [
    {
     "data": {
      "text/plain": [
       "[[], [0]]"
      ]
     },
     "execution_count": 5,
     "metadata": {},
     "output_type": "execute_result"
    }
   ],
   "source": [
    "nums = [0]\n",
    "s = Solution()\n",
    "s.subsets(nums)"
   ]
  },
  {
   "cell_type": "code",
   "execution_count": 6,
   "id": "e798a001",
   "metadata": {},
   "outputs": [
    {
     "data": {
      "text/plain": [
       "[[], [1], [1, 2], [1, 2, 3], [1, 3], [2], [2, 3], [3]]"
      ]
     },
     "execution_count": 6,
     "metadata": {},
     "output_type": "execute_result"
    }
   ],
   "source": [
    "nums = [1,2,3]\n",
    "s = Solution()\n",
    "s.subsets(nums)"
   ]
  }
 ],
 "metadata": {
  "kernelspec": {
   "display_name": "Python 3 (ipykernel)",
   "language": "python",
   "name": "python3"
  },
  "language_info": {
   "codemirror_mode": {
    "name": "ipython",
    "version": 3
   },
   "file_extension": ".py",
   "mimetype": "text/x-python",
   "name": "python",
   "nbconvert_exporter": "python",
   "pygments_lexer": "ipython3",
   "version": "3.8.8"
  }
 },
 "nbformat": 4,
 "nbformat_minor": 5
}
