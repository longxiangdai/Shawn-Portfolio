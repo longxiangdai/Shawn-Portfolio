{
 "cells": [
  {
   "cell_type": "code",
   "execution_count": null,
   "id": "ef9847db",
   "metadata": {},
   "outputs": [],
   "source": [
    "from typing import (\n",
    "    List,\n",
    ")\n",
    "\n",
    "class Solution:\n",
    "    \"\"\"\n",
    "    @param n: An integer\n",
    "    @param edges: a list of undirected edges\n",
    "    @return: true if it's a valid tree, or false\n",
    "    \"\"\"\n",
    "    def valid_tree(self, n: int, edges: List[List[int]]) -> bool:\n",
    "        if len(edges) != n - 1:\n",
    "            return False\n",
    "        graph = [[] for _ in range(n)]\n",
    "        for node_in, node_out in edges:\n",
    "            graph[node_in].append(node_out)\n",
    "            graph[node_out].append(node_in)\n",
    "\n",
    "        queue = collections.deque([0])\n",
    "        visited = set([0])\n",
    "        while queue:\n",
    "            node = queue.popleft()\n",
    "            for child in graph[node]:\n",
    "                if child in visited:\n",
    "                    continue\n",
    "                queue.append(child)\n",
    "                visited.add(child)\n",
    "        print(visited)\n",
    "        return len(visited) == n\n",
    "\n",
    "    "
   ]
  }
 ],
 "metadata": {
  "kernelspec": {
   "display_name": "Python 3 (ipykernel)",
   "language": "python",
   "name": "python3"
  },
  "language_info": {
   "codemirror_mode": {
    "name": "ipython",
    "version": 3
   },
   "file_extension": ".py",
   "mimetype": "text/x-python",
   "name": "python",
   "nbconvert_exporter": "python",
   "pygments_lexer": "ipython3",
   "version": "3.8.8"
  }
 },
 "nbformat": 4,
 "nbformat_minor": 5
}
