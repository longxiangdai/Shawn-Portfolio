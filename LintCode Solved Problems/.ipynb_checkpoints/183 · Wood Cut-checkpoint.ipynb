{
 "cells": [
  {
   "cell_type": "code",
   "execution_count": null,
   "id": "157ecb40",
   "metadata": {},
   "outputs": [],
   "source": [
    "from typing import (\n",
    "    List,\n",
    ")\n",
    "\n",
    "class Solution:\n",
    "    \"\"\"\n",
    "    @param l: Given n pieces of wood with length L[i]\n",
    "    @param k: An integer\n",
    "    @return: The maximum length of the small pieces\n",
    "    \"\"\"\n",
    "    def wood_cut(self, l: List[int], k: int) -> int:\n",
    "        if not l:\n",
    "            return 0\n",
    "        start, end = 1, min(sum(l) // k, max(l))\n",
    "        if end < 1:\n",
    "            return 0\n",
    "        while start + 1 < end:\n",
    "            mid = (start + end) // 2\n",
    "            if self.num_pieces(l, mid) < k:\n",
    "                end = mid\n",
    "            else:\n",
    "                start = mid\n",
    "        if self.num_pieces(l, end) >= k:\n",
    "            return end\n",
    "        else:\n",
    "            return start\n",
    "    \n",
    "    def num_pieces(self, l, length):\n",
    "        return sum([x // length for x in l])\n"
   ]
  }
 ],
 "metadata": {
  "kernelspec": {
   "display_name": "Python 3 (ipykernel)",
   "language": "python",
   "name": "python3"
  },
  "language_info": {
   "codemirror_mode": {
    "name": "ipython",
    "version": 3
   },
   "file_extension": ".py",
   "mimetype": "text/x-python",
   "name": "python",
   "nbconvert_exporter": "python",
   "pygments_lexer": "ipython3",
   "version": "3.8.8"
  }
 },
 "nbformat": 4,
 "nbformat_minor": 5
}
