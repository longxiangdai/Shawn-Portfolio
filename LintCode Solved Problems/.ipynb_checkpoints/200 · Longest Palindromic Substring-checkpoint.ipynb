{
 "cells": [
  {
   "cell_type": "code",
   "execution_count": null,
   "id": "d728c486",
   "metadata": {},
   "outputs": [],
   "source": [
    "class Solution:\n",
    "    \"\"\"\n",
    "    @param s: input string\n",
    "    @return: a string as the longest palindromic substring\n",
    "    \"\"\"\n",
    "    def longest_palindrome(self, s: str) -> str:\n",
    "        self.longest_string = ''\n",
    "        for mid in range(len(s)):\n",
    "            self.extendPalindrome(s,mid,mid)\n",
    "            self.extendPalindrome(s,mid,mid+1)\n",
    "        return self.longest_string\n",
    "\n",
    "    def extendPalindrome(self,s,low,high):\n",
    "        while low >= 0 and high <len(s) and s[low] == s[high]:\n",
    "            low -= 1\n",
    "            high += 1\n",
    "        low += 1\n",
    "\n",
    "        if high - low > len(self.longest_string):\n",
    "            self.longest_string = s[low:high]"
   ]
  }
 ],
 "metadata": {
  "kernelspec": {
   "display_name": "Python 3 (ipykernel)",
   "language": "python",
   "name": "python3"
  },
  "language_info": {
   "codemirror_mode": {
    "name": "ipython",
    "version": 3
   },
   "file_extension": ".py",
   "mimetype": "text/x-python",
   "name": "python",
   "nbconvert_exporter": "python",
   "pygments_lexer": "ipython3",
   "version": "3.8.8"
  }
 },
 "nbformat": 4,
 "nbformat_minor": 5
}
