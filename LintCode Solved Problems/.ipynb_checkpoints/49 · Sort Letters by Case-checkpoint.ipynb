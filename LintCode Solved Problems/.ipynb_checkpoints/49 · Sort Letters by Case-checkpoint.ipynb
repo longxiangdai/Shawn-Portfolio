{
 "cells": [
  {
   "cell_type": "markdown",
   "id": "ac2fbfcc",
   "metadata": {},
   "source": [
    "# Description\n",
    "Given a string chars which contains only letters. Sort it by lower case first and upper case second.\n",
    "In different languages, chars will be given in different ways. For example, the string \"abc\" will be given in following ways:\n",
    "\n",
    "- Java: char[] chars = {'a', 'b', 'c'};\n",
    "- Python：chars = ['a', 'b', 'c']\n",
    "- C++：string chars = \"abc\";\n",
    "\n",
    "You need to implement the in-place algorithm to solve this problem without returning any values, and we will determine if your result is correct based on the sorted chars."
   ]
  },
  {
   "cell_type": "code",
   "execution_count": 1,
   "id": "e77aecbb",
   "metadata": {},
   "outputs": [],
   "source": [
    "from typing import (\n",
    "    List,\n",
    ")\n",
    "\n",
    "class Solution:\n",
    "    \"\"\"\n",
    "    @param chars: The letter array you should sort by Case\n",
    "    @return: nothing\n",
    "    \"\"\"\n",
    "    def sort_letters(self, chars: List[str]):\n",
    "        if not chars or len(chars) == 1:\n",
    "            return\n",
    "        n = len(chars)\n",
    "        left, right = 0, n - 1\n",
    "        while left <= right:\n",
    "            while left <= right and chars[left].islower():\n",
    "                left += 1\n",
    "            while left <= right and chars[right].isupper():\n",
    "                right -= 1\n",
    "            if left <= right:\n",
    "                chars[left], chars[right] = chars[right], chars[left]\n",
    "                left += 1\n",
    "                right -= 1"
   ]
  },
  {
   "cell_type": "code",
   "execution_count": 3,
   "id": "14647ce2",
   "metadata": {},
   "outputs": [
    {
     "data": {
      "text/plain": [
       "['a', 'b', 'c', 'A', 'D']"
      ]
     },
     "execution_count": 3,
     "metadata": {},
     "output_type": "execute_result"
    }
   ],
   "source": [
    "chars = list(\"abAcD\")\n",
    "s = Solution()\n",
    "s.sort_letters(chars)\n",
    "chars"
   ]
  },
  {
   "cell_type": "code",
   "execution_count": 4,
   "id": "e8812dcd",
   "metadata": {},
   "outputs": [
    {
     "data": {
      "text/plain": [
       "['A', 'B', 'C']"
      ]
     },
     "execution_count": 4,
     "metadata": {},
     "output_type": "execute_result"
    }
   ],
   "source": [
    "chars = list(\"ABC\")\n",
    "s = Solution()\n",
    "s.sort_letters(chars)\n",
    "chars"
   ]
  },
  {
   "cell_type": "code",
   "execution_count": null,
   "id": "0e84daf2",
   "metadata": {},
   "outputs": [],
   "source": []
  }
 ],
 "metadata": {
  "kernelspec": {
   "display_name": "Python 3 (ipykernel)",
   "language": "python",
   "name": "python3"
  },
  "language_info": {
   "codemirror_mode": {
    "name": "ipython",
    "version": 3
   },
   "file_extension": ".py",
   "mimetype": "text/x-python",
   "name": "python",
   "nbconvert_exporter": "python",
   "pygments_lexer": "ipython3",
   "version": "3.8.8"
  }
 },
 "nbformat": 4,
 "nbformat_minor": 5
}
