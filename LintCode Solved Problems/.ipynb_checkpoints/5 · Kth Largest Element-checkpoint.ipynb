{
 "cells": [
  {
   "cell_type": "markdown",
   "id": "25858e71",
   "metadata": {},
   "source": [
    "# Description\n",
    "Find the K-th largest element in an array."
   ]
  },
  {
   "cell_type": "code",
   "execution_count": 1,
   "id": "3d6f7bc9",
   "metadata": {},
   "outputs": [],
   "source": [
    "from typing import (\n",
    "    List,\n",
    ")\n",
    "\n",
    "class Solution:\n",
    "    \"\"\"\n",
    "    @param k: An integer\n",
    "    @param nums: An array\n",
    "    @return: the Kth largest element\n",
    "    \"\"\"\n",
    "    def kth_largest_element(self, k: int, nums: List[int]) -> int:\n",
    "        start = 0\n",
    "        end = len(nums) - 1\n",
    "        return self.quick_selection(nums, start, end, k)\n",
    "\n",
    "    def quick_selection(self, nums, start, end, k): # kth largest element relative to start\n",
    "        left, right = start, end\n",
    "        pivot = nums[(start + end) // 2]\n",
    "        while left <= right:\n",
    "            while left <= right and nums[left] > pivot:\n",
    "                left += 1\n",
    "            while left <= right and nums[right] < pivot:\n",
    "                right -= 1\n",
    "            if left <= right:\n",
    "                nums[left], nums[right] = nums[right], nums[left]\n",
    "                left += 1\n",
    "                right -= 1\n",
    "        # \"- 1\" because if start is at index 0 of the original list,\n",
    "        # the k-th largest will have index of k - 1.\n",
    "        if start + k - 1 <= right:\n",
    "            self.quick_selection(nums, start, right, k)\n",
    "        if start + k - 1 >= left:\n",
    "            # kth largest element relative to start\n",
    "            # = k - (left - start) th largest element relative to left\n",
    "            self.quick_selection(nums, left, end, k - (left - start))\n",
    "        return nums[k-1]"
   ]
  },
  {
   "cell_type": "code",
   "execution_count": 5,
   "id": "cd920234",
   "metadata": {},
   "outputs": [],
   "source": [
    "k = 1\n",
    "nums = [1, 3, 4, 2]"
   ]
  },
  {
   "cell_type": "code",
   "execution_count": 6,
   "id": "3b772452",
   "metadata": {},
   "outputs": [
    {
     "data": {
      "text/plain": [
       "4"
      ]
     },
     "execution_count": 6,
     "metadata": {},
     "output_type": "execute_result"
    }
   ],
   "source": [
    "s = Solution()\n",
    "s.kth_largest_element(k, nums)"
   ]
  },
  {
   "cell_type": "code",
   "execution_count": 7,
   "id": "59a40062",
   "metadata": {},
   "outputs": [],
   "source": [
    "k = 3\n",
    "nums = [9, 3, 2, 4, 8]"
   ]
  },
  {
   "cell_type": "code",
   "execution_count": 8,
   "id": "607d7d68",
   "metadata": {},
   "outputs": [
    {
     "data": {
      "text/plain": [
       "4"
      ]
     },
     "execution_count": 8,
     "metadata": {},
     "output_type": "execute_result"
    }
   ],
   "source": [
    "s = Solution()\n",
    "s.kth_largest_element(k, nums)"
   ]
  }
 ],
 "metadata": {
  "kernelspec": {
   "display_name": "Python 3 (ipykernel)",
   "language": "python",
   "name": "python3"
  },
  "language_info": {
   "codemirror_mode": {
    "name": "ipython",
    "version": 3
   },
   "file_extension": ".py",
   "mimetype": "text/x-python",
   "name": "python",
   "nbconvert_exporter": "python",
   "pygments_lexer": "ipython3",
   "version": "3.8.8"
  }
 },
 "nbformat": 4,
 "nbformat_minor": 5
}
