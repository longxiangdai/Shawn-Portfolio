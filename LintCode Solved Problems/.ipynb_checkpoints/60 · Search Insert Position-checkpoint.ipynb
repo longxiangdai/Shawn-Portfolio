{
 "cells": [
  {
   "cell_type": "code",
   "execution_count": null,
   "id": "6f1996c6",
   "metadata": {},
   "outputs": [],
   "source": [
    "from typing import (\n",
    "    List,\n",
    ")\n",
    "\n",
    "class Solution:\n",
    "    \"\"\"\n",
    "    @param a: an integer sorted array\n",
    "    @param target: an integer to be inserted\n",
    "    @return: An integer\n",
    "    \"\"\"\n",
    "    def search_insert(self, a: List[int], target: int) -> int:\n",
    "        if not a:\n",
    "            return 0\n",
    "        if target <= a[0]:\n",
    "            return 0\n",
    "        if target > a[-1]:\n",
    "            return len(a)\n",
    "\n",
    "        left, right = 0, len(a) - 1\n",
    "        while left + 1 < right:\n",
    "            mid = (left + right) // 2\n",
    "            if target < a[mid]:\n",
    "                right = mid\n",
    "            else:\n",
    "                left = mid\n",
    "        \n",
    "        if a[left] == target:\n",
    "            return left\n",
    "        if a[right] == target:\n",
    "            return right\n",
    "        if target > a[left]:\n",
    "            return right\n",
    "        else:\n",
    "            return left\n",
    "\t\t\n"
   ]
  }
 ],
 "metadata": {
  "kernelspec": {
   "display_name": "Python 3 (ipykernel)",
   "language": "python",
   "name": "python3"
  },
  "language_info": {
   "codemirror_mode": {
    "name": "ipython",
    "version": 3
   },
   "file_extension": ".py",
   "mimetype": "text/x-python",
   "name": "python",
   "nbconvert_exporter": "python",
   "pygments_lexer": "ipython3",
   "version": "3.8.8"
  }
 },
 "nbformat": 4,
 "nbformat_minor": 5
}
