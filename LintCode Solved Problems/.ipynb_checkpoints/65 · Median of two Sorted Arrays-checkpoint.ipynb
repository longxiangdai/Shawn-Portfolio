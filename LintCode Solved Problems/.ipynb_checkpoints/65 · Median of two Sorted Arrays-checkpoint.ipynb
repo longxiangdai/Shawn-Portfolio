{
 "cells": [
  {
   "cell_type": "code",
   "execution_count": null,
   "id": "99834175",
   "metadata": {},
   "outputs": [],
   "source": [
    "from typing import (\n",
    "    List,\n",
    ")\n",
    "\n",
    "class Solution:\n",
    "    \"\"\"\n",
    "    @param a: An integer array\n",
    "    @param b: An integer array\n",
    "    @return: a double whose format is *.5 or *.0\n",
    "    \"\"\"\n",
    "    def find_median_sorted_arrays(self, a: List[int], b: List[int]) -> float:\n",
    "        m, n = len(a), len(b)\n",
    "        half = (m + n) // 2\n",
    "        # Let a refer to the smaller array\n",
    "        # If a has more elements than b, i = (left + rigth) // 2 may greater than half\n",
    "        # and j = half - i - 2 may be negative\n",
    "        if m > n:\n",
    "            a, b = b, a\n",
    "        # Perform binary search on \"a\"\n",
    "        left, right = 0, len(a) - 1\n",
    "        while True:\n",
    "            i = (left + right) // 2 # pointer for a; num of elements = i + 1\n",
    "            j = half - (i + 1) - 1  # pointer for b; still need half - (i + 1) number of elements\n",
    "            aleft = a[i] if i >= 0 else float(\"-inf\")\n",
    "            aright = a[i + 1] if (i + 1) < len(a) else float(\"inf\") \n",
    "            bleft = b[j] if j >= 0 else float(\"-inf\")\n",
    "            bright = b[j + 1] if (j + 1) < len(b) else float(\"inf\")\n",
    "            \n",
    "            # a[:i] and [b:j] <= a[i+1:] and b[j+1:]\n",
    "            if aleft <= bright and bleft <= aright:\n",
    "                if (m + n) % 2 == 1: # odd\n",
    "                    return min(aright, bright)\n",
    "                else: # even\n",
    "                    return (max(aleft, bleft) + min(aright, bright)) / 2\n",
    "            # a[:i] includes too many elements; expand a and shrink b\n",
    "            elif aleft > bright:\n",
    "                right = i - 1\n",
    "            # a[:i] includes too small elements; shrink a and expand b\n",
    "            else:\n",
    "                left = i + 1\n",
    "\n",
    "            \n",
    "            \n",
    "        "
   ]
  }
 ],
 "metadata": {
  "kernelspec": {
   "display_name": "Python 3 (ipykernel)",
   "language": "python",
   "name": "python3"
  },
  "language_info": {
   "codemirror_mode": {
    "name": "ipython",
    "version": 3
   },
   "file_extension": ".py",
   "mimetype": "text/x-python",
   "name": "python",
   "nbconvert_exporter": "python",
   "pygments_lexer": "ipython3",
   "version": "3.8.8"
  }
 },
 "nbformat": 4,
 "nbformat_minor": 5
}
