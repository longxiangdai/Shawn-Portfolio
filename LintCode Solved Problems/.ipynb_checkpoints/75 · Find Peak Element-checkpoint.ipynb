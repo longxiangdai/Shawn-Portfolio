{
 "cells": [
  {
   "cell_type": "code",
   "execution_count": null,
   "id": "beeeb896",
   "metadata": {},
   "outputs": [],
   "source": [
    "from typing import (\n",
    "    List,\n",
    ")\n",
    "\n",
    "class Solution:\n",
    "    \"\"\"\n",
    "    @param a: An integers array.\n",
    "    @return: return any of peek positions.\n",
    "    \"\"\"\n",
    "    def find_peak(self, a: List[int]) -> int:\n",
    "        left, right = 1, len(a) - 2\n",
    "        while left + 1 < right:\n",
    "            mid = (left + right) // 2\n",
    "            if a[mid] < a[mid - 1]:\n",
    "                right = mid\n",
    "            elif a[mid] < a[mid + 1]:\n",
    "                left = mid\n",
    "            else:\n",
    "                return mid\n",
    "        return right if a[left] < a[right] else left\n",
    "            "
   ]
  }
 ],
 "metadata": {
  "kernelspec": {
   "display_name": "Python 3 (ipykernel)",
   "language": "python",
   "name": "python3"
  },
  "language_info": {
   "codemirror_mode": {
    "name": "ipython",
    "version": 3
   },
   "file_extension": ".py",
   "mimetype": "text/x-python",
   "name": "python",
   "nbconvert_exporter": "python",
   "pygments_lexer": "ipython3",
   "version": "3.8.8"
  }
 },
 "nbformat": 4,
 "nbformat_minor": 5
}
