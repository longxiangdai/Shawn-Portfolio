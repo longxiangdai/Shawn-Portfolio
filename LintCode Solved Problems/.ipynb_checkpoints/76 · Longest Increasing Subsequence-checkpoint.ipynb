{
 "cells": [
  {
   "cell_type": "code",
   "execution_count": null,
   "id": "e5f90304",
   "metadata": {},
   "outputs": [],
   "source": [
    "from typing import (\n",
    "    List,\n",
    ")\n",
    "\n",
    "class Solution:\n",
    "    \"\"\"\n",
    "    @param nums: An integer array\n",
    "    @return: The length of LIS (longest increasing subsequence)\n",
    "    \"\"\"\n",
    "    def longest_increasing_subsequence(self, nums: List[int]) -> int:\n",
    "        if nums == []:\n",
    "            return 0\n",
    "        M = [1] * len(nums) # len of LIS starting from i\n",
    "        for i in range(len(nums)-1, -1, -1):\n",
    "            for j in range(i-1, -1, -1):\n",
    "                if nums[j] < nums[i]:\n",
    "                    M[j] = max(M[j], M[i] + 1)\n",
    "        return max(M)\n"
   ]
  }
 ],
 "metadata": {
  "kernelspec": {
   "display_name": "Python 3 (ipykernel)",
   "language": "python",
   "name": "python3"
  },
  "language_info": {
   "codemirror_mode": {
    "name": "ipython",
    "version": 3
   },
   "file_extension": ".py",
   "mimetype": "text/x-python",
   "name": "python",
   "nbconvert_exporter": "python",
   "pygments_lexer": "ipython3",
   "version": "3.8.8"
  }
 },
 "nbformat": 4,
 "nbformat_minor": 5
}
