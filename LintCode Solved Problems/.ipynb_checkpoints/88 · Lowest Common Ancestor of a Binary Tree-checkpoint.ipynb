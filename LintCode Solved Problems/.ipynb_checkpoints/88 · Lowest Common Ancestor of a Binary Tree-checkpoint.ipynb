{
 "cells": [
  {
   "cell_type": "code",
   "execution_count": null,
   "id": "8efebd62",
   "metadata": {},
   "outputs": [],
   "source": [
    "\"\"\"\n",
    "Definition of TreeNode:\n",
    "class TreeNode:\n",
    "    def __init__(self, val):\n",
    "        self.val = val\n",
    "        self.left, self.right = None, None\n",
    "\"\"\"\n",
    "\n",
    "\n",
    "class Solution:\n",
    "    \"\"\"\n",
    "    @param: root: The root of the binary tree.\n",
    "    @param: A: A TreeNode in a Binary.\n",
    "    @param: B: A TreeNode in a Binary.\n",
    "    @return: Return the least common ancestor(LCA) of the two nodes.\n",
    "    \"\"\"\n",
    "    def lowestCommonAncestor(self, root, A, B):\n",
    "        if root is None:\n",
    "            return None\n",
    "        if root == A or root == B:\n",
    "            return root\n",
    "        left = self.lowestCommonAncestor(root.left, A, B)\n",
    "        right = self.lowestCommonAncestor(root.right, A, B)\n",
    "\n",
    "        if left and right:\n",
    "            return root\n",
    "\n",
    "        if left:\n",
    "            return left\n",
    "        \n",
    "        if right:\n",
    "            return right\n",
    "        \n",
    "        return None"
   ]
  }
 ],
 "metadata": {
  "kernelspec": {
   "display_name": "Python 3 (ipykernel)",
   "language": "python",
   "name": "python3"
  },
  "language_info": {
   "codemirror_mode": {
    "name": "ipython",
    "version": 3
   },
   "file_extension": ".py",
   "mimetype": "text/x-python",
   "name": "python",
   "nbconvert_exporter": "python",
   "pygments_lexer": "ipython3",
   "version": "3.8.8"
  }
 },
 "nbformat": 4,
 "nbformat_minor": 5
}
