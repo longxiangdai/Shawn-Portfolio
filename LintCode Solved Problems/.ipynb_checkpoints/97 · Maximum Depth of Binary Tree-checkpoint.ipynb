{
 "cells": [
  {
   "cell_type": "code",
   "execution_count": null,
   "id": "b32a2a61",
   "metadata": {},
   "outputs": [],
   "source": [
    "from lintcode import (\n",
    "    TreeNode,\n",
    ")\n",
    "\n",
    "\"\"\"\n",
    "Definition of TreeNode:\n",
    "class TreeNode:\n",
    "    def __init__(self, val):\n",
    "        self.val = val\n",
    "        self.left, self.right = None, None\n",
    "\"\"\"\n",
    "\n",
    "class Solution:\n",
    "    \"\"\"\n",
    "    @param root: The root of binary tree.\n",
    "    @return: An integer\n",
    "    \"\"\"\n",
    "    def max_depth(self, root: TreeNode) -> int:\n",
    "        if not root:\n",
    "            return 0\n",
    "        return 1 + max(self.max_depth(root.left), self.max_depth(root.right))\n"
   ]
  }
 ],
 "metadata": {
  "kernelspec": {
   "display_name": "Python 3 (ipykernel)",
   "language": "python",
   "name": "python3"
  },
  "language_info": {
   "codemirror_mode": {
    "name": "ipython",
    "version": 3
   },
   "file_extension": ".py",
   "mimetype": "text/x-python",
   "name": "python",
   "nbconvert_exporter": "python",
   "pygments_lexer": "ipython3",
   "version": "3.8.8"
  }
 },
 "nbformat": 4,
 "nbformat_minor": 5
}
