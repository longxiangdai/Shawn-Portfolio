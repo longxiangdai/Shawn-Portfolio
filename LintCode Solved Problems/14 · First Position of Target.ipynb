{
 "cells": [
  {
   "cell_type": "markdown",
   "id": "f3be4dac",
   "metadata": {},
   "source": [
    "# Description\n",
    "Given a sorted array (ascending order) and a target number, find the first index of this number in O(log n)O(logn) time complexity.\n",
    "\n",
    "If the target number does not exist in the array, return -1."
   ]
  },
  {
   "cell_type": "code",
   "execution_count": 1,
   "id": "763eef8e",
   "metadata": {},
   "outputs": [],
   "source": [
    "from typing import (\n",
    "    List,\n",
    ")\n",
    "\n",
    "class Solution:\n",
    "    \"\"\"\n",
    "    @param nums: The integer array.\n",
    "    @param target: Target to find.\n",
    "    @return: The first position of target. Position starts from 0.\n",
    "    \"\"\"\n",
    "    def binary_search(self, nums: List[int], target: int) -> int:\n",
    "        n = len(nums)\n",
    "        if n == 0:\n",
    "            return -1\n",
    "        start, end = 0, n - 1\n",
    "        while start + 1 < end:\n",
    "            mid = (end + start) // 2\n",
    "            if nums[mid] == target:\n",
    "                end = mid\n",
    "            elif nums[mid] < target:\n",
    "                start = mid + 1\n",
    "            else:\n",
    "                end = mid - 1\n",
    "        if nums[start] == target:\n",
    "            return start\n",
    "        if nums[end] == target:\n",
    "            return end\n",
    "        return -1\n",
    "\n"
   ]
  },
  {
   "cell_type": "code",
   "execution_count": 2,
   "id": "2bbc5f1d",
   "metadata": {},
   "outputs": [],
   "source": [
    "tuple = [1,4,4,5,7,7,8,9,9,10]\n",
    "target = 1"
   ]
  },
  {
   "cell_type": "code",
   "execution_count": 3,
   "id": "c4b2308e",
   "metadata": {},
   "outputs": [
    {
     "data": {
      "text/plain": [
       "0"
      ]
     },
     "execution_count": 3,
     "metadata": {},
     "output_type": "execute_result"
    }
   ],
   "source": [
    "s = Solution()\n",
    "s.binary_search(tuple, target)"
   ]
  },
  {
   "cell_type": "code",
   "execution_count": 4,
   "id": "51378813",
   "metadata": {},
   "outputs": [],
   "source": [
    "tuple = [1, 2, 3, 3, 4, 5, 10]\n",
    "target = 3"
   ]
  },
  {
   "cell_type": "code",
   "execution_count": 5,
   "id": "089d986d",
   "metadata": {},
   "outputs": [
    {
     "data": {
      "text/plain": [
       "2"
      ]
     },
     "execution_count": 5,
     "metadata": {},
     "output_type": "execute_result"
    }
   ],
   "source": [
    "s = Solution()\n",
    "s.binary_search(tuple, target)"
   ]
  },
  {
   "cell_type": "code",
   "execution_count": 6,
   "id": "ecf1c4da",
   "metadata": {},
   "outputs": [],
   "source": [
    "tuple = [1, 2, 3, 3, 4, 5, 10]\n",
    "target = 6"
   ]
  },
  {
   "cell_type": "code",
   "execution_count": 7,
   "id": "e27591f5",
   "metadata": {},
   "outputs": [
    {
     "data": {
      "text/plain": [
       "-1"
      ]
     },
     "execution_count": 7,
     "metadata": {},
     "output_type": "execute_result"
    }
   ],
   "source": [
    "s = Solution()\n",
    "s.binary_search(tuple, target)"
   ]
  }
 ],
 "metadata": {
  "kernelspec": {
   "display_name": "Python 3 (ipykernel)",
   "language": "python",
   "name": "python3"
  },
  "language_info": {
   "codemirror_mode": {
    "name": "ipython",
    "version": 3
   },
   "file_extension": ".py",
   "mimetype": "text/x-python",
   "name": "python",
   "nbconvert_exporter": "python",
   "pygments_lexer": "ipython3",
   "version": "3.8.8"
  }
 },
 "nbformat": 4,
 "nbformat_minor": 5
}
