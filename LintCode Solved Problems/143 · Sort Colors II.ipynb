{
 "cells": [
  {
   "cell_type": "code",
   "execution_count": null,
   "id": "409dd39e",
   "metadata": {},
   "outputs": [],
   "source": [
    "from typing import (\n",
    "    List,\n",
    ")\n",
    "\n",
    "class Solution:\n",
    "    \"\"\"\n",
    "    @param colors: A list of integer\n",
    "    @param k: An integer\n",
    "    @return: nothing\n",
    "    \"\"\"\n",
    "    def sort_colors2(self, colors: List[int], k: int): # based on divide and conquer\n",
    "        if not colors or len(colors) <= 1:\n",
    "            return\n",
    "        self.sort(colors, 1, k, 0, len(colors) - 1)\n",
    "    \n",
    "    def sort(self, colors, colorFrom, colorTo, indexFrom, indexTo):\n",
    "        if colorFrom == colorTo or indexFrom == indexTo:\n",
    "            return\n",
    "        colorMid = (colorFrom + colorTo) // 2\n",
    "        left, right = indexFrom, indexTo\n",
    "        while left <= right:\n",
    "            while left <= right and colors[left] <= colorMid:\n",
    "                left += 1\n",
    "            while left <= right and colors[right] > colorMid:\n",
    "                right -= 1\n",
    "            if left <= right:\n",
    "                colors[left], colors[right] = colors[right], colors[left]\n",
    "                left += 1\n",
    "                right -= 1\n",
    "        self.sort(colors, colorFrom, colorMid, indexFrom, right)\n",
    "        self.sort(colors, colorMid+1, colorTo, left, indexTo)\n"
   ]
  }
 ],
 "metadata": {
  "kernelspec": {
   "display_name": "Python 3 (ipykernel)",
   "language": "python",
   "name": "python3"
  },
  "language_info": {
   "codemirror_mode": {
    "name": "ipython",
    "version": 3
   },
   "file_extension": ".py",
   "mimetype": "text/x-python",
   "name": "python",
   "nbconvert_exporter": "python",
   "pygments_lexer": "ipython3",
   "version": "3.8.8"
  }
 },
 "nbformat": 4,
 "nbformat_minor": 5
}
