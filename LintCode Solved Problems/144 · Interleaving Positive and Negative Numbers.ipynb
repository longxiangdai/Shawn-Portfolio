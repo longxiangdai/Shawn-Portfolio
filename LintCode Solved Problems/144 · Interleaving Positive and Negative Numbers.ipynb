{
 "cells": [
  {
   "cell_type": "code",
   "execution_count": null,
   "id": "995845b2",
   "metadata": {},
   "outputs": [],
   "source": [
    "from typing import (\n",
    "    List,\n",
    ")\n",
    "\n",
    "class Solution:\n",
    "    \"\"\"\n",
    "    @param a: An integer array.\n",
    "    @return: nothing\n",
    "    \"\"\"\n",
    "    def rerange(self, a: List[int]):\n",
    "        if not a or len(a) <= 2:\n",
    "            return\n",
    "        left, right = 0, len(a) - 1\n",
    "        while left <= right:\n",
    "            while left <= right and a[left] < 0:\n",
    "                left += 1\n",
    "            while left <= right and a[right] > 0:\n",
    "                right -= 1\n",
    "            if left <= right:\n",
    "                a[left], a[right] = a[right], a[left]\n",
    "        neg_count = right + 1\n",
    "        pos_count = len(a) - neg_count\n",
    "        if neg_count == pos_count: # +,-,+,- or -,+,-,+\n",
    "            left, right = 1, len(a) - 2\n",
    "        elif pos_count > neg_count: # +,-,+,-,+\n",
    "            left, right = 0, len(a) - 2\n",
    "        else: # -,+,-,+,-\n",
    "            left, right = 1, len(a) - 1\n",
    "        while left < right:\n",
    "            a[left], a[right] = a[right], a[left]\n",
    "            left += 2\n",
    "            right -= 2"
   ]
  }
 ],
 "metadata": {
  "kernelspec": {
   "display_name": "Python 3 (ipykernel)",
   "language": "python",
   "name": "python3"
  },
  "language_info": {
   "codemirror_mode": {
    "name": "ipython",
    "version": 3
   },
   "file_extension": ".py",
   "mimetype": "text/x-python",
   "name": "python",
   "nbconvert_exporter": "python",
   "pygments_lexer": "ipython3",
   "version": "3.8.8"
  }
 },
 "nbformat": 4,
 "nbformat_minor": 5
}
