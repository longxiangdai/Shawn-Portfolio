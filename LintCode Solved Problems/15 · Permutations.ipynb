{
 "cells": [
  {
   "cell_type": "markdown",
   "id": "9312ce4a",
   "metadata": {},
   "source": [
    "# Description\n",
    "Given a list of numbers, return all possible permutations of it."
   ]
  },
  {
   "cell_type": "code",
   "execution_count": 1,
   "id": "02ea70a1",
   "metadata": {},
   "outputs": [],
   "source": [
    "from typing import (\n",
    "    List,\n",
    ")\n",
    "\n",
    "class Solution:\n",
    "    \"\"\"\n",
    "    @param nums: A list of integers.\n",
    "    @return: A list of permutations.\n",
    "             we will sort your return value in output\n",
    "    \"\"\"\n",
    "    \n",
    "    def permute(self, nums: List[int]) -> List[List[int]]:\n",
    "        if not nums:\n",
    "            return [[]]\n",
    "        permutations = []\n",
    "        self.dfs(nums, [], set(), permutations)\n",
    "        return permutations\n",
    "    \n",
    "    def dfs(self, nums, permutation, visited, permutations):\n",
    "        if len(permutation) == len(nums):\n",
    "            permutations.append(list(permutation))\n",
    "            return\n",
    "        for num in nums:\n",
    "            if num in visited:\n",
    "                continue\n",
    "            permutation.append(num)\n",
    "            visited.add(num)\n",
    "            self.dfs(nums, permutation, visited, permutations)\n",
    "            permutation.pop()\n",
    "            visited.remove(num)"
   ]
  },
  {
   "cell_type": "code",
   "execution_count": 2,
   "id": "ace4b106",
   "metadata": {},
   "outputs": [],
   "source": [
    "nums = [1]"
   ]
  },
  {
   "cell_type": "code",
   "execution_count": 3,
   "id": "1852f051",
   "metadata": {},
   "outputs": [
    {
     "data": {
      "text/plain": [
       "[[1]]"
      ]
     },
     "execution_count": 3,
     "metadata": {},
     "output_type": "execute_result"
    }
   ],
   "source": [
    "s = Solution()\n",
    "s.permute(nums)"
   ]
  },
  {
   "cell_type": "code",
   "execution_count": 4,
   "id": "eb2df94e",
   "metadata": {},
   "outputs": [],
   "source": [
    "nums = [1, 2, 3]"
   ]
  },
  {
   "cell_type": "code",
   "execution_count": 5,
   "id": "68eadea5",
   "metadata": {},
   "outputs": [
    {
     "data": {
      "text/plain": [
       "[[1, 2, 3], [1, 3, 2], [2, 1, 3], [2, 3, 1], [3, 1, 2], [3, 2, 1]]"
      ]
     },
     "execution_count": 5,
     "metadata": {},
     "output_type": "execute_result"
    }
   ],
   "source": [
    "s = Solution()\n",
    "s.permute(nums)"
   ]
  },
  {
   "cell_type": "code",
   "execution_count": null,
   "id": "263946be",
   "metadata": {},
   "outputs": [],
   "source": []
  }
 ],
 "metadata": {
  "kernelspec": {
   "display_name": "Python 3 (ipykernel)",
   "language": "python",
   "name": "python3"
  },
  "language_info": {
   "codemirror_mode": {
    "name": "ipython",
    "version": 3
   },
   "file_extension": ".py",
   "mimetype": "text/x-python",
   "name": "python",
   "nbconvert_exporter": "python",
   "pygments_lexer": "ipython3",
   "version": "3.8.8"
  }
 },
 "nbformat": 4,
 "nbformat_minor": 5
}
