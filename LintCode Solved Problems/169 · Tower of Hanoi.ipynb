{
 "cells": [
  {
   "cell_type": "code",
   "execution_count": null,
   "id": "acc3ecf2",
   "metadata": {},
   "outputs": [],
   "source": [
    "from typing import (\n",
    "    List,\n",
    ")\n",
    "\n",
    "class Solution:\n",
    "    \"\"\"\n",
    "    @param n: the number of disks\n",
    "    @return: the order of moves\n",
    "    \"\"\"\n",
    "    def tower_of_hanoi(self, n: int) -> List[str]:\n",
    "        moves = []\n",
    "        self.helper(n, 'A', 'C', 'B', moves)\n",
    "        return moves\n",
    "\n",
    "    def helper(self, n, start, end, temp, moves):\n",
    "        if n == 1:\n",
    "            moves.append(self.move(start, end))\n",
    "        else:\n",
    "            self.helper(n-1, start, temp, end, moves)\n",
    "            moves.append(self.move(start, end))\n",
    "            self.helper(n-1, temp, end, start, moves)\n",
    "\n",
    "    def move(self, start, end):\n",
    "        return 'from %s to %s' % (start, end)\n"
   ]
  }
 ],
 "metadata": {
  "kernelspec": {
   "display_name": "Python 3 (ipykernel)",
   "language": "python",
   "name": "python3"
  },
  "language_info": {
   "codemirror_mode": {
    "name": "ipython",
    "version": 3
   },
   "file_extension": ".py",
   "mimetype": "text/x-python",
   "name": "python",
   "nbconvert_exporter": "python",
   "pygments_lexer": "ipython3",
   "version": "3.8.8"
  }
 },
 "nbformat": 4,
 "nbformat_minor": 5
}
