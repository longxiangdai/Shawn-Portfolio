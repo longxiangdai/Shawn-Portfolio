{
 "cells": [
  {
   "cell_type": "markdown",
   "id": "9d0bb343",
   "metadata": {},
   "source": [
    "# Description\n",
    "Given a collection of integers that might contain duplicate numbers, return all possible subsets.\n",
    "\n",
    "- Each element in a subset must be in non-descending order.\n",
    "- The ordering between two subsets is free.\n",
    "- The solution set must not contain duplicate subsets."
   ]
  },
  {
   "cell_type": "code",
   "execution_count": 1,
   "id": "4f07764b",
   "metadata": {},
   "outputs": [],
   "source": [
    "from typing import (\n",
    "    List,\n",
    ")\n",
    "\n",
    "class Solution:\n",
    "    \"\"\"\n",
    "    @param nums: A set of numbers.\n",
    "    @return: A list of lists. All valid subsets.\n",
    "             we will sort your return value in output\n",
    "    \"\"\"\n",
    "    def subsets_with_dup(self, nums: List[int]) -> List[List[int]]:\n",
    "        if not nums:\n",
    "            return [[]]\n",
    "        nums.sort()\n",
    "        result = []\n",
    "        self.dfs(nums, 0, [], result)\n",
    "        return result\n",
    "\n",
    "    def dfs(self, nums, index, pre_subset, result):\n",
    "        result.append(list(pre_subset))\n",
    "        for i in range(index, len(nums)):\n",
    "            if i > index and nums[i] == nums[i-1]:\n",
    "                continue\n",
    "            pre_subset.append(nums[i])\n",
    "            self.dfs(nums, i + 1, pre_subset, result)\n",
    "            pre_subset.pop()"
   ]
  },
  {
   "cell_type": "code",
   "execution_count": 2,
   "id": "d0cab802",
   "metadata": {},
   "outputs": [
    {
     "data": {
      "text/plain": [
       "[[], [0]]"
      ]
     },
     "execution_count": 2,
     "metadata": {},
     "output_type": "execute_result"
    }
   ],
   "source": [
    "nums = [0]\n",
    "s = Solution()\n",
    "s.subsets_with_dup(nums)"
   ]
  },
  {
   "cell_type": "code",
   "execution_count": 3,
   "id": "53dbdf2a",
   "metadata": {},
   "outputs": [
    {
     "data": {
      "text/plain": [
       "[[], [1], [1, 2], [1, 2, 2], [2], [2, 2]]"
      ]
     },
     "execution_count": 3,
     "metadata": {},
     "output_type": "execute_result"
    }
   ],
   "source": [
    "nums = [1,2,2]\n",
    "s = Solution()\n",
    "s.subsets_with_dup(nums)"
   ]
  },
  {
   "cell_type": "code",
   "execution_count": null,
   "id": "b79c842c",
   "metadata": {},
   "outputs": [],
   "source": []
  }
 ],
 "metadata": {
  "kernelspec": {
   "display_name": "Python 3 (ipykernel)",
   "language": "python",
   "name": "python3"
  },
  "language_info": {
   "codemirror_mode": {
    "name": "ipython",
    "version": 3
   },
   "file_extension": ".py",
   "mimetype": "text/x-python",
   "name": "python",
   "nbconvert_exporter": "python",
   "pygments_lexer": "ipython3",
   "version": "3.8.8"
  }
 },
 "nbformat": 4,
 "nbformat_minor": 5
}
