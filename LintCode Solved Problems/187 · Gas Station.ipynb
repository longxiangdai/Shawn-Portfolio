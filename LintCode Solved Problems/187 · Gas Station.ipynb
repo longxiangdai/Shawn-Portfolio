{
 "cells": [
  {
   "cell_type": "code",
   "execution_count": null,
   "id": "b25dd8cc",
   "metadata": {},
   "outputs": [],
   "source": [
    "from typing import (\n",
    "    List,\n",
    ")\n",
    "\n",
    "class Solution:\n",
    "    \"\"\"\n",
    "    @param gas: An array of integers\n",
    "    @param cost: An array of integers\n",
    "    @return: An integer\n",
    "    \"\"\"\n",
    "    def can_complete_circuit(self, gas: List[int], cost: List[int]) -> int:\n",
    "        if sum(gas) < sum(cost):\n",
    "            return -1\n",
    "            \n",
    "        index = 0\n",
    "        gas_remain = 0\n",
    "        \n",
    "        for i in range(len(gas)):\n",
    "            \n",
    "            gas_remain += gas[i]-cost[i]\n",
    "            if gas_remain < 0:\n",
    "                gas_remain = 0\n",
    "                index = i+1\n",
    "                \n",
    "        return index"
   ]
  }
 ],
 "metadata": {
  "kernelspec": {
   "display_name": "Python 3 (ipykernel)",
   "language": "python",
   "name": "python3"
  },
  "language_info": {
   "codemirror_mode": {
    "name": "ipython",
    "version": 3
   },
   "file_extension": ".py",
   "mimetype": "text/x-python",
   "name": "python",
   "nbconvert_exporter": "python",
   "pygments_lexer": "ipython3",
   "version": "3.8.8"
  }
 },
 "nbformat": 4,
 "nbformat_minor": 5
}
