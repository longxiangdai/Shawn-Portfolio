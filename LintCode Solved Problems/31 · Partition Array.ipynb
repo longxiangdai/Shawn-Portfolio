{
 "cells": [
  {
   "cell_type": "markdown",
   "id": "c1cdd3b4",
   "metadata": {},
   "source": [
    "# Description\n",
    "Given an array nums of integers and an int k, partition the array (i.e move the elements in \"nums\") such that:\n",
    "\n",
    "- All elements < k are moved to the left\n",
    "- All elements >= k are moved to the right\n",
    "Return the partitioning index, i.e the first index i nums[i] >= k."
   ]
  },
  {
   "cell_type": "code",
   "execution_count": 1,
   "id": "285053b6",
   "metadata": {},
   "outputs": [],
   "source": [
    "from typing import (\n",
    "    List,\n",
    ")\n",
    "\n",
    "class Solution:\n",
    "    \"\"\"\n",
    "    @param nums: The integer array you should partition\n",
    "    @param k: An integer\n",
    "    @return: The index after partition\n",
    "    \"\"\"\n",
    "    def partition_array(self, nums: List[int], k: int) -> int:\n",
    "        # O(n)\n",
    "        n = len(nums)\n",
    "        left, right = 0, n - 1\n",
    "        while left <= right:\n",
    "            while left <= right and nums[left] < k:\n",
    "                left += 1\n",
    "            while left <= right and nums[right] >= k:\n",
    "                right -= 1\n",
    "            if left <= right:\n",
    "                nums[left], nums[right] = nums[right], nums[left]\n",
    "                left += 1\n",
    "                right -=1\n",
    "        return right + 1"
   ]
  },
  {
   "cell_type": "code",
   "execution_count": 3,
   "id": "bb35a3ba",
   "metadata": {},
   "outputs": [
    {
     "data": {
      "text/plain": [
       "0"
      ]
     },
     "execution_count": 3,
     "metadata": {},
     "output_type": "execute_result"
    }
   ],
   "source": [
    "nums = []\n",
    "k = 9\n",
    "s = Solution()\n",
    "s.partition_array(nums, k)"
   ]
  },
  {
   "cell_type": "code",
   "execution_count": 5,
   "id": "30aa46d7",
   "metadata": {},
   "outputs": [
    {
     "data": {
      "text/plain": [
       "1"
      ]
     },
     "execution_count": 5,
     "metadata": {},
     "output_type": "execute_result"
    }
   ],
   "source": [
    "nums = [3, 2, 2, 1]\n",
    "k = 2\n",
    "s = Solution()\n",
    "s.partition_array(nums, k)"
   ]
  }
 ],
 "metadata": {
  "kernelspec": {
   "display_name": "Python 3 (ipykernel)",
   "language": "python",
   "name": "python3"
  },
  "language_info": {
   "codemirror_mode": {
    "name": "ipython",
    "version": 3
   },
   "file_extension": ".py",
   "mimetype": "text/x-python",
   "name": "python",
   "nbconvert_exporter": "python",
   "pygments_lexer": "ipython3",
   "version": "3.8.8"
  }
 },
 "nbformat": 4,
 "nbformat_minor": 5
}
