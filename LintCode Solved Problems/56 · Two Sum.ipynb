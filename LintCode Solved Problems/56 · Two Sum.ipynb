{
 "cells": [
  {
   "cell_type": "code",
   "execution_count": null,
   "id": "40997639",
   "metadata": {},
   "outputs": [],
   "source": [
    "from typing import (\n",
    "    List,\n",
    ")\n",
    "\n",
    "class Solution:\n",
    "    \"\"\"\n",
    "    @param numbers: An array of Integer\n",
    "    @param target: target = numbers[index1] + numbers[index2]\n",
    "    @return: [index1, index2] (index1 < index2)\n",
    "    \"\"\"\n",
    "    def two_sum(self, numbers: List[int], target: int) -> List[int]:\n",
    "        # write your code here\n",
    "        '''\n",
    "        num_idx = [(num, idx) for idx, num in enumerate(numbers)]\n",
    "        num_idx.sort() # O(n log n)\n",
    "        left = 0\n",
    "        right = len(numbers) - 1\n",
    "        while left < right and (num_idx[left][0] + num_idx[right][0]) != target:\n",
    "            while right >= 0 and num_idx[right][0] + num_idx[left][0] > target:\n",
    "                right -= 1\n",
    "            while left < len(numbers) and num_idx[right][0] + num_idx[left][0] < target:\n",
    "                left += 1\n",
    "        left_idx = num_idx[left][1]\n",
    "        right_idx = num_idx[right][1]\n",
    "        return [min(left_idx, right_idx), max(left_idx, right_idx)]\n",
    "        '''\n",
    "        d = dict()\n",
    "        for idx, num in enumerate(numbers):\n",
    "            if target - num in d:\n",
    "                return sorted([idx, d[target - num]])\n",
    "            else:\n",
    "                d[num] = idx"
   ]
  }
 ],
 "metadata": {
  "kernelspec": {
   "display_name": "Python 3 (ipykernel)",
   "language": "python",
   "name": "python3"
  },
  "language_info": {
   "codemirror_mode": {
    "name": "ipython",
    "version": 3
   },
   "file_extension": ".py",
   "mimetype": "text/x-python",
   "name": "python",
   "nbconvert_exporter": "python",
   "pygments_lexer": "ipython3",
   "version": "3.8.8"
  }
 },
 "nbformat": 4,
 "nbformat_minor": 5
}
