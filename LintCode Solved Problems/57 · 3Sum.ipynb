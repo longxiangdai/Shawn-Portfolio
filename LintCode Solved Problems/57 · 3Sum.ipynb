{
 "cells": [
  {
   "cell_type": "code",
   "execution_count": 1,
   "id": "00392314",
   "metadata": {},
   "outputs": [],
   "source": [
    "from typing import (\n",
    "    List,\n",
    ")\n",
    "\n",
    "class Solution:\n",
    "    \"\"\"\n",
    "    @param numbers: Give an array numbers of n integer\n",
    "    @return: Find all unique triplets in the array which gives the sum of zero.\n",
    "             we will sort your return value in output\n",
    "    \"\"\"\n",
    "    def three_sum(self, numbers: List[int]) -> List[List[int]]:\n",
    "        n = len(numbers)\n",
    "        if n < 3:\n",
    "            return []\n",
    "        numbers.sort()\n",
    "        result = []\n",
    "        for k in range(n): # O(n^3)\n",
    "            i, j, target = k+1, n-1, -numbers[k]\n",
    "            if k > 0 and numbers[k] == numbers[k-1]:\n",
    "                continue\n",
    "            self.two_sum(numbers, k+1, n-1, -numbers[k], result)\n",
    "        return result\n",
    "\n",
    "    def two_sum(self, numbers, start, end, target, result):\n",
    "        while start < end:\n",
    "            if numbers[start] + numbers[end] < target:\n",
    "                start += 1\n",
    "            elif numbers[start] + numbers[end] > target:\n",
    "                end -= 1\n",
    "            else:\n",
    "                result.append([-target, numbers[start], numbers[end]])\n",
    "                start += 1\n",
    "                end -= 1\n",
    "                while start < end and numbers[start] == numbers[start - 1]:\n",
    "                    start += 1\n",
    "                while start < end and numbers[end] == numbers[end + 1]:\n",
    "                    end -= 1\n",
    "                \n"
   ]
  },
  {
   "cell_type": "code",
   "execution_count": null,
   "id": "96841fd8",
   "metadata": {},
   "outputs": [],
   "source": []
  }
 ],
 "metadata": {
  "kernelspec": {
   "display_name": "Python 3 (ipykernel)",
   "language": "python",
   "name": "python3"
  },
  "language_info": {
   "codemirror_mode": {
    "name": "ipython",
    "version": 3
   },
   "file_extension": ".py",
   "mimetype": "text/x-python",
   "name": "python",
   "nbconvert_exporter": "python",
   "pygments_lexer": "ipython3",
   "version": "3.8.8"
  }
 },
 "nbformat": 4,
 "nbformat_minor": 5
}
