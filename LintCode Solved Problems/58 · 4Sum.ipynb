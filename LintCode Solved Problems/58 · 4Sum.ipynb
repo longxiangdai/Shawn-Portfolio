{
 "cells": [
  {
   "cell_type": "code",
   "execution_count": null,
   "id": "99d8f4f8",
   "metadata": {},
   "outputs": [],
   "source": [
    "from typing import (\n",
    "    List,\n",
    ")\n",
    "\n",
    "class Solution:\n",
    "    \"\"\"\n",
    "    @param numbers: Give an array\n",
    "    @param target: An integer\n",
    "    @return: Find all unique quadruplets in the array which gives the sum of zero\n",
    "             we will sort your return value in output\n",
    "    \"\"\"\n",
    "    def four_sum(self, numbers: List[int], target: int) -> List[List[int]]:\n",
    "\t\t# write your code here\n",
    "        res = []\n",
    "        if not numbers:\n",
    "            return res\n",
    "        \n",
    "        numbers.sort()\n",
    "        for i in range(len(numbers)):\n",
    "            if i > 0 and numbers[i] == numbers[i - 1]:\n",
    "                continue\n",
    "            for j in range(i + 1, len(numbers)):\n",
    "                if numbers[j] == numbers[j - 1] and j - 1 != i:\n",
    "                    continue\n",
    "                self.find_two_sum(numbers, target - numbers[i] - numbers[j], i, j, res)\n",
    "        return res\n",
    "\n",
    "\n",
    "    def find_two_sum(self, num, target, left_index, right_index, res):\n",
    "        start, end = right_index + 1, len(num) - 1\n",
    "        while start < end:\n",
    "            if num[start] + num[end] == target:\n",
    "                res.append([num[left_index], num[right_index], num[start], num[end]])\n",
    "                start += 1\n",
    "                end -= 1\n",
    "                while start >= 1 and num[start] == num[start - 1]:\n",
    "                    start += 1\n",
    "                while end <= len(num) - 2 and num[end] == num[end + 1]:\n",
    "                    end -= 1\n",
    "            elif num[start] + num[end] > target:\n",
    "                end -= 1\n",
    "            else:\n",
    "                start += 1\n",
    "\n",
    "    "
   ]
  }
 ],
 "metadata": {
  "kernelspec": {
   "display_name": "Python 3 (ipykernel)",
   "language": "python",
   "name": "python3"
  },
  "language_info": {
   "codemirror_mode": {
    "name": "ipython",
    "version": 3
   },
   "file_extension": ".py",
   "mimetype": "text/x-python",
   "name": "python",
   "nbconvert_exporter": "python",
   "pygments_lexer": "ipython3",
   "version": "3.8.8"
  }
 },
 "nbformat": 4,
 "nbformat_minor": 5
}
