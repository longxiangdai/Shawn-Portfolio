{
 "cells": [
  {
   "cell_type": "markdown",
   "id": "3fc864f3",
   "metadata": {},
   "source": [
    "# Description\n",
    "Merge two given sorted ascending integer array A and B into a new sorted integer array."
   ]
  },
  {
   "cell_type": "code",
   "execution_count": 1,
   "id": "0c9c22e4",
   "metadata": {},
   "outputs": [],
   "source": [
    "from typing import (\n",
    "    List,\n",
    ")\n",
    "\n",
    "class Solution:\n",
    "    \"\"\"\n",
    "    @param a: sorted integer array A\n",
    "    @param b: sorted integer array B\n",
    "    @return: A new sorted integer array\n",
    "    \"\"\"\n",
    "    def merge_sorted_array(self, a: List[int], b: List[int]) -> List[int]:\n",
    "        # Using two pointers\n",
    "        i = 0\n",
    "        j = 0\n",
    "        c = []\n",
    "        while i < len(a) and j < len(b):\n",
    "            if a[i] <= b[j]:\n",
    "                c.append(a[i])\n",
    "                i += 1\n",
    "            else:\n",
    "                c.append(b[j])\n",
    "                j += 1\n",
    "        if i < len(a):\n",
    "            c += a[i:]\n",
    "        else:\n",
    "            c += b[j:]\n",
    "        return c\n",
    "        "
   ]
  },
  {
   "cell_type": "code",
   "execution_count": 2,
   "id": "67d9461f",
   "metadata": {},
   "outputs": [],
   "source": [
    "A = [1]\n",
    "B = [1]"
   ]
  },
  {
   "cell_type": "code",
   "execution_count": 3,
   "id": "564f57d3",
   "metadata": {},
   "outputs": [
    {
     "data": {
      "text/plain": [
       "[1, 1]"
      ]
     },
     "execution_count": 3,
     "metadata": {},
     "output_type": "execute_result"
    }
   ],
   "source": [
    "s = Solution()\n",
    "s.merge_sorted_array(A, B)"
   ]
  },
  {
   "cell_type": "code",
   "execution_count": 4,
   "id": "1a630e93",
   "metadata": {},
   "outputs": [],
   "source": [
    "A = [1,2,3,4]\n",
    "B = [2,4,5,6]"
   ]
  },
  {
   "cell_type": "code",
   "execution_count": 5,
   "id": "6fd363de",
   "metadata": {},
   "outputs": [
    {
     "data": {
      "text/plain": [
       "[1, 2, 2, 3, 4, 4, 5, 6]"
      ]
     },
     "execution_count": 5,
     "metadata": {},
     "output_type": "execute_result"
    }
   ],
   "source": [
    "s = Solution()\n",
    "s.merge_sorted_array(A, B)"
   ]
  }
 ],
 "metadata": {
  "kernelspec": {
   "display_name": "Python 3 (ipykernel)",
   "language": "python",
   "name": "python3"
  },
  "language_info": {
   "codemirror_mode": {
    "name": "ipython",
    "version": 3
   },
   "file_extension": ".py",
   "mimetype": "text/x-python",
   "name": "python",
   "nbconvert_exporter": "python",
   "pygments_lexer": "ipython3",
   "version": "3.8.8"
  }
 },
 "nbformat": 4,
 "nbformat_minor": 5
}
