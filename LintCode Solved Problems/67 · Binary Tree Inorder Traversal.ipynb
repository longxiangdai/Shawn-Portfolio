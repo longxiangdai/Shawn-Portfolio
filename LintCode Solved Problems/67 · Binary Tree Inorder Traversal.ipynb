{
 "cells": [
  {
   "cell_type": "code",
   "execution_count": null,
   "id": "38db5208",
   "metadata": {},
   "outputs": [],
   "source": [
    "from typing import (\n",
    "    List,\n",
    ")\n",
    "from lintcode import (\n",
    "    TreeNode,\n",
    ")\n",
    "\n",
    "\"\"\"\n",
    "Definition of TreeNode:\n",
    "class TreeNode:\n",
    "    def __init__(self, val):\n",
    "        self.val = val\n",
    "        self.left, self.right = None, None\n",
    "\"\"\"\n",
    "\n",
    "class Solution:\n",
    "    \"\"\"\n",
    "    @param root: A Tree\n",
    "    @return: Inorder in ArrayList which contains node values.\n",
    "    \"\"\"\n",
    "    # Recursion\n",
    "    \"\"\"\n",
    "    def inorder_traversal(self, root: TreeNode) -> List[int]:\n",
    "        result = []\n",
    "        self.traversal(root, result)\n",
    "        return result\n",
    "\n",
    "    def traversal(self, node, result):\n",
    "        if not node:\n",
    "            return\n",
    "        self.traversal(node.left, result)\n",
    "        result.append(node.val)\n",
    "        self.traversal(node.right, result)\n",
    "    \"\"\"\n",
    "    def inorder_traversal(self, root: TreeNode) -> List[int]:\n",
    "        stack = []\n",
    "        result = []\n",
    "        while root:\n",
    "            stack.append(root)\n",
    "            root = root.left\n",
    "\n",
    "        while stack:\n",
    "            node = stack.pop()\n",
    "            result.append(node.val)\n",
    "            if node.right:\n",
    "                node = node.right\n",
    "                while node:\n",
    "                    stack.append(node)\n",
    "                    node = node.left\n",
    "        return result\n",
    "        \n",
    "        "
   ]
  }
 ],
 "metadata": {
  "kernelspec": {
   "display_name": "Python 3 (ipykernel)",
   "language": "python",
   "name": "python3"
  },
  "language_info": {
   "codemirror_mode": {
    "name": "ipython",
    "version": 3
   },
   "file_extension": ".py",
   "mimetype": "text/x-python",
   "name": "python",
   "nbconvert_exporter": "python",
   "pygments_lexer": "ipython3",
   "version": "3.8.8"
  }
 },
 "nbformat": 4,
 "nbformat_minor": 5
}
