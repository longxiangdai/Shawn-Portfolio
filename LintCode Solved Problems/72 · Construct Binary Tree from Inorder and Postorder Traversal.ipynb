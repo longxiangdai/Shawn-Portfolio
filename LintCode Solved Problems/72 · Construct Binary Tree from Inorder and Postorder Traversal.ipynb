{
 "cells": [
  {
   "cell_type": "code",
   "execution_count": null,
   "id": "11f452fc",
   "metadata": {},
   "outputs": [],
   "source": [
    "from typing import (\n",
    "    List,\n",
    ")\n",
    "from lintcode import (\n",
    "    TreeNode,\n",
    ")\n",
    "\n",
    "\"\"\"\n",
    "Definition of TreeNode:\n",
    "class TreeNode:\n",
    "    def __init__(self, val):\n",
    "        self.val = val\n",
    "        self.left, self.right = None, None\n",
    "\"\"\"\n",
    "\n",
    "class Solution:\n",
    "    \"\"\"\n",
    "    @param inorder: A list of integers that inorder traversal of a tree\n",
    "    @param postorder: A list of integers that postorder traversal of a tree\n",
    "    @return: Root of a tree\n",
    "    \"\"\"\n",
    "    # inorder: left, root, right\n",
    "    # postorder: left, right, root\n",
    "    def build_tree(self, inorder: List[int], postorder: List[int]) -> TreeNode:\n",
    "        n = len(inorder)\n",
    "        return self.build(inorder, 0, n-1, postorder, 0, n-1)\n",
    "\n",
    "    def build(self, inorder, in_start, in_end, postorder, post_start, post_end):\n",
    "        if in_start > in_end:\n",
    "            return None\n",
    "        \n",
    "        root = TreeNode(postorder[post_end])\n",
    "        position = inorder.index(postorder[post_end])\n",
    "\n",
    "        left_len = position - in_start\n",
    "        right_len = in_end - position\n",
    "\n",
    "        root.left = self.build(inorder, in_start, position - 1, \n",
    "                               postorder, post_start, post_start + left_len - 1)\n",
    "        root.right = self.build(inorder, position + 1, in_end, \n",
    "                               postorder, post_end - right_len, post_end - 1)\n",
    "        return root\n"
   ]
  }
 ],
 "metadata": {
  "kernelspec": {
   "display_name": "Python 3 (ipykernel)",
   "language": "python",
   "name": "python3"
  },
  "language_info": {
   "codemirror_mode": {
    "name": "ipython",
    "version": 3
   },
   "file_extension": ".py",
   "mimetype": "text/x-python",
   "name": "python",
   "nbconvert_exporter": "python",
   "pygments_lexer": "ipython3",
   "version": "3.8.8"
  }
 },
 "nbformat": 4,
 "nbformat_minor": 5
}
