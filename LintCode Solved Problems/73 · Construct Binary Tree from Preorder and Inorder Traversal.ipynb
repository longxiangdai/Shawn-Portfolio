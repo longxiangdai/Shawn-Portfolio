{
 "cells": [
  {
   "cell_type": "code",
   "execution_count": null,
   "id": "813fa01c",
   "metadata": {},
   "outputs": [],
   "source": [
    "from typing import (\n",
    "    List,\n",
    ")\n",
    "from lintcode import (\n",
    "    TreeNode,\n",
    ")\n",
    "\n",
    "\"\"\"\n",
    "Definition of TreeNode:\n",
    "class TreeNode:\n",
    "    def __init__(self, val):\n",
    "        self.val = val\n",
    "        self.left, self.right = None, None\n",
    "\"\"\"\n",
    "\n",
    "class Solution:\n",
    "    \"\"\"\n",
    "    @param preorder: A list of integers that preorder traversal of a tree\n",
    "    @param inorder: A list of integers that inorder traversal of a tree\n",
    "    @return: Root of a tree\n",
    "    \"\"\"\n",
    "    def build_tree(self, preorder: List[int], inorder: List[int]) -> TreeNode:\n",
    "        # preorder: root, left, right\n",
    "        # inorder: left, root, right\n",
    "        n = len(preorder)\n",
    "        return self.build(preorder, 0, n-1, inorder, 0, n-1)\n",
    "    \n",
    "    def build(self, preorder, pre_start, pre_end, inorder, in_start, in_end):\n",
    "        if pre_start > pre_end:\n",
    "            return None\n",
    "\n",
    "        root = TreeNode(preorder[pre_start])\n",
    "        position = inorder.index(preorder[pre_start])\n",
    "\n",
    "        left_len = position - in_start\n",
    "        right_len = in_end - position\n",
    "\n",
    "        root.left = self.build(preorder, pre_start + 1, pre_start + left_len, \n",
    "                               inorder, in_start, in_start + left_len - 1)\n",
    "        root.right = self.build(preorder, pre_end - right_len + 1, pre_end, \n",
    "                                inorder, in_end - right_len + 1 , in_end)\n",
    "\n",
    "        return root\n",
    "        \n"
   ]
  }
 ],
 "metadata": {
  "kernelspec": {
   "display_name": "Python 3 (ipykernel)",
   "language": "python",
   "name": "python3"
  },
  "language_info": {
   "codemirror_mode": {
    "name": "ipython",
    "version": 3
   },
   "file_extension": ".py",
   "mimetype": "text/x-python",
   "name": "python",
   "nbconvert_exporter": "python",
   "pygments_lexer": "ipython3",
   "version": "3.8.8"
  }
 },
 "nbformat": 4,
 "nbformat_minor": 5
}
