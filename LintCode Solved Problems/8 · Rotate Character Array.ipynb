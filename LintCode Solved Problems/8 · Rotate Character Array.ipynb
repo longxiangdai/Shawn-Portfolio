{
 "cells": [
  {
   "cell_type": "markdown",
   "id": "b75cacb0",
   "metadata": {},
   "source": [
    "# Description\n",
    "Given a character array and an offset, rotate the array by offset in place. (from left to right)."
   ]
  },
  {
   "cell_type": "code",
   "execution_count": 1,
   "id": "f55a0119",
   "metadata": {},
   "outputs": [],
   "source": [
    "from typing import (\n",
    "    List,\n",
    ")\n",
    "\n",
    "class Solution:\n",
    "    \"\"\"\n",
    "    @param s: An array of char\n",
    "    @param offset: An integer\n",
    "    @return: nothing\n",
    "    \"\"\"\n",
    "    def rotate_string(self, s: List[str], offset: int):\n",
    "        n = len(s)\n",
    "        if n == 0:\n",
    "            return\n",
    "        offset = offset % n\n",
    "        self.reverse(s, 0, n-1)\n",
    "        self.reverse(s, 0, offset - 1)\n",
    "        self.reverse(s, offset, n-1)\n",
    "    \n",
    "    def reverse(self, s, start, end):\n",
    "        i, j = start, end\n",
    "        while i < j:\n",
    "            s[i], s[j] = s[j], s[i]\n",
    "            i += 1\n",
    "            j -= 1\n"
   ]
  },
  {
   "cell_type": "code",
   "execution_count": 2,
   "id": "9e43dfe9",
   "metadata": {},
   "outputs": [],
   "source": [
    "string = list(\"abcdefg\")\n",
    "offset = 3"
   ]
  },
  {
   "cell_type": "code",
   "execution_count": 3,
   "id": "d6a6d04a",
   "metadata": {},
   "outputs": [
    {
     "data": {
      "text/plain": [
       "['e', 'f', 'g', 'a', 'b', 'c', 'd']"
      ]
     },
     "execution_count": 3,
     "metadata": {},
     "output_type": "execute_result"
    }
   ],
   "source": [
    "s = Solution()\n",
    "s.rotate_string(string, offset)\n",
    "string"
   ]
  },
  {
   "cell_type": "code",
   "execution_count": 4,
   "id": "be7ad6f8",
   "metadata": {},
   "outputs": [],
   "source": [
    "string = list(\"abcdefg\")\n",
    "offset = 0"
   ]
  },
  {
   "cell_type": "code",
   "execution_count": 5,
   "id": "88380003",
   "metadata": {},
   "outputs": [
    {
     "data": {
      "text/plain": [
       "['a', 'b', 'c', 'd', 'e', 'f', 'g']"
      ]
     },
     "execution_count": 5,
     "metadata": {},
     "output_type": "execute_result"
    }
   ],
   "source": [
    "s = Solution()\n",
    "s.rotate_string(string, offset)\n",
    "string"
   ]
  }
 ],
 "metadata": {
  "kernelspec": {
   "display_name": "Python 3 (ipykernel)",
   "language": "python",
   "name": "python3"
  },
  "language_info": {
   "codemirror_mode": {
    "name": "ipython",
    "version": 3
   },
   "file_extension": ".py",
   "mimetype": "text/x-python",
   "name": "python",
   "nbconvert_exporter": "python",
   "pygments_lexer": "ipython3",
   "version": "3.8.8"
  }
 },
 "nbformat": 4,
 "nbformat_minor": 5
}
