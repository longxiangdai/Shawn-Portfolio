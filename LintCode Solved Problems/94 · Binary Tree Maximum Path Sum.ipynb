{
 "cells": [
  {
   "cell_type": "code",
   "execution_count": null,
   "id": "5b448dfb",
   "metadata": {},
   "outputs": [],
   "source": [
    "from lintcode import (\n",
    "    TreeNode,\n",
    ")\n",
    "\n",
    "\"\"\"\n",
    "Definition of TreeNode:\n",
    "class TreeNode:\n",
    "    def __init__(self, val):\n",
    "        self.val = val\n",
    "        self.left, self.right = None, None\n",
    "\"\"\"\n",
    "\n",
    "class Solution:\n",
    "    \"\"\"\n",
    "    @param root: The root of binary tree.\n",
    "    @return: An integer\n",
    "    \"\"\"\n",
    "    def max_path_sum(self, root: TreeNode) -> int:\n",
    "        self.max = -float('inf')\n",
    "        self.helper(root)\n",
    "        return self.max\n",
    "\n",
    "    def helper(self, root): # >= 0\n",
    "        if not root:\n",
    "            return 0\n",
    "        leftsum = self.helper(root.left)\n",
    "        rightsum = self.helper(root.right)\n",
    "        self.max = max(self.max, leftsum + rightsum + root.val)\n",
    "        return max(leftsum + root.val, rightsum + root.val, 0)\n"
   ]
  }
 ],
 "metadata": {
  "kernelspec": {
   "display_name": "Python 3 (ipykernel)",
   "language": "python",
   "name": "python3"
  },
  "language_info": {
   "codemirror_mode": {
    "name": "ipython",
    "version": 3
   },
   "file_extension": ".py",
   "mimetype": "text/x-python",
   "name": "python",
   "nbconvert_exporter": "python",
   "pygments_lexer": "ipython3",
   "version": "3.8.8"
  }
 },
 "nbformat": 4,
 "nbformat_minor": 5
}
